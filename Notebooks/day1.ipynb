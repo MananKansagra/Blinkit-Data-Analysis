{
 "cells": [
  {
   "cell_type": "code",
   "execution_count": 1,
   "id": "35024cc9-f5bd-481a-b742-82f098434e41",
   "metadata": {
    "jupyter": {
     "source_hidden": true
    }
   },
   "outputs": [
    {
     "name": "stdout",
     "output_type": "stream",
     "text": [
      "hello\n"
     ]
    }
   ],
   "source": [
    "print(\"hello\")"
   ]
  },
  {
   "cell_type": "code",
   "execution_count": 2,
   "id": "dfcdd0c6-78af-43f1-9645-b425cb6acd0f",
   "metadata": {},
   "outputs": [
    {
     "name": "stdout",
     "output_type": "stream",
     "text": [
      "Collecting pandas\n",
      "  Using cached pandas-2.2.3-cp313-cp313-win_amd64.whl.metadata (19 kB)\n",
      "Collecting numpy>=1.26.0 (from pandas)\n",
      "  Using cached numpy-2.2.6-cp313-cp313-win_amd64.whl.metadata (60 kB)\n",
      "Requirement already satisfied: python-dateutil>=2.8.2 in c:\\users\\manan\\onedrive - msft\\desktop\\krisha\\venv\\lib\\site-packages (from pandas) (2.9.0.post0)\n",
      "Collecting pytz>=2020.1 (from pandas)\n",
      "  Using cached pytz-2025.2-py2.py3-none-any.whl.metadata (22 kB)\n",
      "Collecting tzdata>=2022.7 (from pandas)\n",
      "  Using cached tzdata-2025.2-py2.py3-none-any.whl.metadata (1.4 kB)\n",
      "Requirement already satisfied: six>=1.5 in c:\\users\\manan\\onedrive - msft\\desktop\\krisha\\venv\\lib\\site-packages (from python-dateutil>=2.8.2->pandas) (1.17.0)\n",
      "Using cached pandas-2.2.3-cp313-cp313-win_amd64.whl (11.5 MB)\n",
      "Using cached numpy-2.2.6-cp313-cp313-win_amd64.whl (12.6 MB)\n",
      "Using cached pytz-2025.2-py2.py3-none-any.whl (509 kB)\n",
      "Using cached tzdata-2025.2-py2.py3-none-any.whl (347 kB)\n",
      "Installing collected packages: pytz, tzdata, numpy, pandas\n",
      "Successfully installed numpy-2.2.6 pandas-2.2.3 pytz-2025.2 tzdata-2025.2\n",
      "Note: you may need to restart the kernel to use updated packages.\n"
     ]
    },
    {
     "name": "stderr",
     "output_type": "stream",
     "text": [
      "\n",
      "[notice] A new release of pip is available: 25.0.1 -> 25.1.1\n",
      "[notice] To update, run: python.exe -m pip install --upgrade pip\n"
     ]
    }
   ],
   "source": [
    "pip install pandas"
   ]
  },
  {
   "cell_type": "code",
   "execution_count": 3,
   "id": "799d66a5-a8fa-4e7b-826f-4137c69e60dc",
   "metadata": {},
   "outputs": [],
   "source": [
    "import pandas as pd"
   ]
  },
  {
   "cell_type": "code",
   "execution_count": 4,
   "id": "58db37e6-aedc-4b8e-9452-d1c4cce4517d",
   "metadata": {},
   "outputs": [],
   "source": [
    "data = pd.read_csv('data/blinkit_order_items.csv')"
   ]
  },
  {
   "cell_type": "code",
   "execution_count": 5,
   "id": "e034ee90-2479-4665-b388-835a7444eb96",
   "metadata": {},
   "outputs": [
    {
     "data": {
      "text/html": [
       "<div>\n",
       "<style scoped>\n",
       "    .dataframe tbody tr th:only-of-type {\n",
       "        vertical-align: middle;\n",
       "    }\n",
       "\n",
       "    .dataframe tbody tr th {\n",
       "        vertical-align: top;\n",
       "    }\n",
       "\n",
       "    .dataframe thead th {\n",
       "        text-align: right;\n",
       "    }\n",
       "</style>\n",
       "<table border=\"1\" class=\"dataframe\">\n",
       "  <thead>\n",
       "    <tr style=\"text-align: right;\">\n",
       "      <th></th>\n",
       "      <th>order_id</th>\n",
       "      <th>product_id</th>\n",
       "      <th>quantity</th>\n",
       "      <th>unit_price</th>\n",
       "    </tr>\n",
       "  </thead>\n",
       "  <tbody>\n",
       "    <tr>\n",
       "      <th>0</th>\n",
       "      <td>1961864118</td>\n",
       "      <td>642612</td>\n",
       "      <td>3</td>\n",
       "      <td>517.03</td>\n",
       "    </tr>\n",
       "    <tr>\n",
       "      <th>1</th>\n",
       "      <td>1549769649</td>\n",
       "      <td>378676</td>\n",
       "      <td>1</td>\n",
       "      <td>881.42</td>\n",
       "    </tr>\n",
       "    <tr>\n",
       "      <th>2</th>\n",
       "      <td>9185164487</td>\n",
       "      <td>741341</td>\n",
       "      <td>2</td>\n",
       "      <td>923.84</td>\n",
       "    </tr>\n",
       "    <tr>\n",
       "      <th>3</th>\n",
       "      <td>9644738826</td>\n",
       "      <td>561860</td>\n",
       "      <td>1</td>\n",
       "      <td>874.78</td>\n",
       "    </tr>\n",
       "    <tr>\n",
       "      <th>4</th>\n",
       "      <td>5427684290</td>\n",
       "      <td>602241</td>\n",
       "      <td>2</td>\n",
       "      <td>976.55</td>\n",
       "    </tr>\n",
       "  </tbody>\n",
       "</table>\n",
       "</div>"
      ],
      "text/plain": [
       "     order_id  product_id  quantity  unit_price\n",
       "0  1961864118      642612         3      517.03\n",
       "1  1549769649      378676         1      881.42\n",
       "2  9185164487      741341         2      923.84\n",
       "3  9644738826      561860         1      874.78\n",
       "4  5427684290      602241         2      976.55"
      ]
     },
     "execution_count": 5,
     "metadata": {},
     "output_type": "execute_result"
    }
   ],
   "source": [
    "data.head()"
   ]
  },
  {
   "cell_type": "code",
   "execution_count": 6,
   "id": "ee99848c-98d1-4e33-bb13-97f1ce75cad6",
   "metadata": {},
   "outputs": [
    {
     "data": {
      "text/plain": [
       "(5000, 4)"
      ]
     },
     "execution_count": 6,
     "metadata": {},
     "output_type": "execute_result"
    }
   ],
   "source": [
    "data.shape"
   ]
  },
  {
   "cell_type": "code",
   "execution_count": 7,
   "id": "ae6c4040-ff27-4588-98b6-2f605781e977",
   "metadata": {},
   "outputs": [
    {
     "data": {
      "text/html": [
       "<div>\n",
       "<style scoped>\n",
       "    .dataframe tbody tr th:only-of-type {\n",
       "        vertical-align: middle;\n",
       "    }\n",
       "\n",
       "    .dataframe tbody tr th {\n",
       "        vertical-align: top;\n",
       "    }\n",
       "\n",
       "    .dataframe thead th {\n",
       "        text-align: right;\n",
       "    }\n",
       "</style>\n",
       "<table border=\"1\" class=\"dataframe\">\n",
       "  <thead>\n",
       "    <tr style=\"text-align: right;\">\n",
       "      <th></th>\n",
       "      <th>order_id</th>\n",
       "      <th>product_id</th>\n",
       "      <th>quantity</th>\n",
       "      <th>unit_price</th>\n",
       "    </tr>\n",
       "  </thead>\n",
       "  <tbody>\n",
       "    <tr>\n",
       "      <th>4995</th>\n",
       "      <td>1669690997</td>\n",
       "      <td>925482</td>\n",
       "      <td>3</td>\n",
       "      <td>475.04</td>\n",
       "    </tr>\n",
       "    <tr>\n",
       "      <th>4996</th>\n",
       "      <td>8340761903</td>\n",
       "      <td>124290</td>\n",
       "      <td>2</td>\n",
       "      <td>39.65</td>\n",
       "    </tr>\n",
       "    <tr>\n",
       "      <th>4997</th>\n",
       "      <td>5936301790</td>\n",
       "      <td>491314</td>\n",
       "      <td>3</td>\n",
       "      <td>973.44</td>\n",
       "    </tr>\n",
       "    <tr>\n",
       "      <th>4998</th>\n",
       "      <td>5710579377</td>\n",
       "      <td>319388</td>\n",
       "      <td>2</td>\n",
       "      <td>657.80</td>\n",
       "    </tr>\n",
       "    <tr>\n",
       "      <th>4999</th>\n",
       "      <td>2494813730</td>\n",
       "      <td>136533</td>\n",
       "      <td>1</td>\n",
       "      <td>826.21</td>\n",
       "    </tr>\n",
       "  </tbody>\n",
       "</table>\n",
       "</div>"
      ],
      "text/plain": [
       "        order_id  product_id  quantity  unit_price\n",
       "4995  1669690997      925482         3      475.04\n",
       "4996  8340761903      124290         2       39.65\n",
       "4997  5936301790      491314         3      973.44\n",
       "4998  5710579377      319388         2      657.80\n",
       "4999  2494813730      136533         1      826.21"
      ]
     },
     "execution_count": 7,
     "metadata": {},
     "output_type": "execute_result"
    }
   ],
   "source": [
    "data.tail()"
   ]
  },
  {
   "cell_type": "code",
   "execution_count": 8,
   "id": "9d43bdb1-1843-4f3c-8255-bf5735c5ecbb",
   "metadata": {},
   "outputs": [
    {
     "data": {
      "text/html": [
       "<div>\n",
       "<style scoped>\n",
       "    .dataframe tbody tr th:only-of-type {\n",
       "        vertical-align: middle;\n",
       "    }\n",
       "\n",
       "    .dataframe tbody tr th {\n",
       "        vertical-align: top;\n",
       "    }\n",
       "\n",
       "    .dataframe thead th {\n",
       "        text-align: right;\n",
       "    }\n",
       "</style>\n",
       "<table border=\"1\" class=\"dataframe\">\n",
       "  <thead>\n",
       "    <tr style=\"text-align: right;\">\n",
       "      <th></th>\n",
       "      <th>order_id</th>\n",
       "      <th>product_id</th>\n",
       "      <th>quantity</th>\n",
       "      <th>unit_price</th>\n",
       "    </tr>\n",
       "  </thead>\n",
       "  <tbody>\n",
       "    <tr>\n",
       "      <th>count</th>\n",
       "      <td>5.000000e+03</td>\n",
       "      <td>5000.000000</td>\n",
       "      <td>5000.000000</td>\n",
       "      <td>5000.000000</td>\n",
       "    </tr>\n",
       "    <tr>\n",
       "      <th>mean</th>\n",
       "      <td>5.029129e+09</td>\n",
       "      <td>509974.939600</td>\n",
       "      <td>2.006800</td>\n",
       "      <td>493.157900</td>\n",
       "    </tr>\n",
       "    <tr>\n",
       "      <th>std</th>\n",
       "      <td>2.863533e+09</td>\n",
       "      <td>293678.307475</td>\n",
       "      <td>0.820542</td>\n",
       "      <td>298.075647</td>\n",
       "    </tr>\n",
       "    <tr>\n",
       "      <th>min</th>\n",
       "      <td>6.046500e+04</td>\n",
       "      <td>4452.000000</td>\n",
       "      <td>1.000000</td>\n",
       "      <td>12.320000</td>\n",
       "    </tr>\n",
       "    <tr>\n",
       "      <th>25%</th>\n",
       "      <td>2.531421e+09</td>\n",
       "      <td>257719.000000</td>\n",
       "      <td>1.000000</td>\n",
       "      <td>227.220000</td>\n",
       "    </tr>\n",
       "    <tr>\n",
       "      <th>50%</th>\n",
       "      <td>5.074378e+09</td>\n",
       "      <td>540618.000000</td>\n",
       "      <td>2.000000</td>\n",
       "      <td>448.160000</td>\n",
       "    </tr>\n",
       "    <tr>\n",
       "      <th>75%</th>\n",
       "      <td>7.488579e+09</td>\n",
       "      <td>747801.000000</td>\n",
       "      <td>3.000000</td>\n",
       "      <td>781.080000</td>\n",
       "    </tr>\n",
       "    <tr>\n",
       "      <th>max</th>\n",
       "      <td>9.998298e+09</td>\n",
       "      <td>993331.000000</td>\n",
       "      <td>3.000000</td>\n",
       "      <td>995.980000</td>\n",
       "    </tr>\n",
       "  </tbody>\n",
       "</table>\n",
       "</div>"
      ],
      "text/plain": [
       "           order_id     product_id     quantity   unit_price\n",
       "count  5.000000e+03    5000.000000  5000.000000  5000.000000\n",
       "mean   5.029129e+09  509974.939600     2.006800   493.157900\n",
       "std    2.863533e+09  293678.307475     0.820542   298.075647\n",
       "min    6.046500e+04    4452.000000     1.000000    12.320000\n",
       "25%    2.531421e+09  257719.000000     1.000000   227.220000\n",
       "50%    5.074378e+09  540618.000000     2.000000   448.160000\n",
       "75%    7.488579e+09  747801.000000     3.000000   781.080000\n",
       "max    9.998298e+09  993331.000000     3.000000   995.980000"
      ]
     },
     "execution_count": 8,
     "metadata": {},
     "output_type": "execute_result"
    }
   ],
   "source": [
    "data.describe()"
   ]
  },
  {
   "cell_type": "markdown",
   "id": "bebb7396-96aa-4261-99dd-25b19eb8ea09",
   "metadata": {},
   "source": [
    "checking for null values in data set\n"
   ]
  },
  {
   "cell_type": "code",
   "execution_count": 23,
   "id": "a938f66e-aa45-4088-9e7a-46bd5cec33fc",
   "metadata": {},
   "outputs": [],
   "source": [
    "null_count = data.isnull().sum()"
   ]
  },
  {
   "cell_type": "code",
   "execution_count": 24,
   "id": "3b3b2630-aee8-49b0-a127-d4d1468564ea",
   "metadata": {},
   "outputs": [
    {
     "name": "stdout",
     "output_type": "stream",
     "text": [
      "order_id      0\n",
      "product_id    0\n",
      "quantity      0\n",
      "unit_price    0\n",
      "dtype: int64\n"
     ]
    }
   ],
   "source": [
    "print(null_count)"
   ]
  },
  {
   "cell_type": "code",
   "execution_count": null,
   "id": "efeef786-77ef-48ec-98d3-2e13238b2330",
   "metadata": {},
   "outputs": [],
   "source": []
  }
 ],
 "metadata": {
  "kernelspec": {
   "display_name": "Python 3 (ipykernel)",
   "language": "python",
   "name": "python3"
  },
  "language_info": {
   "codemirror_mode": {
    "name": "ipython",
    "version": 3
   },
   "file_extension": ".py",
   "mimetype": "text/x-python",
   "name": "python",
   "nbconvert_exporter": "python",
   "pygments_lexer": "ipython3",
   "version": "3.13.3"
  }
 },
 "nbformat": 4,
 "nbformat_minor": 5
}
