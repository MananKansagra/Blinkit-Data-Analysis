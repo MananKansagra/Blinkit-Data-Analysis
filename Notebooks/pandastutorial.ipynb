{
 "cells": [
  {
   "cell_type": "code",
   "execution_count": 5,
   "id": "79a17b19-4a18-4c8c-a6da-ce53a0365cf4",
   "metadata": {},
   "outputs": [],
   "source": [
    "import pandas as pd "
   ]
  },
  {
   "cell_type": "code",
   "execution_count": 2,
   "id": "6ada5c9e-eafd-4b15-a331-b62541560331",
   "metadata": {},
   "outputs": [
    {
     "ename": "NameError",
     "evalue": "name 'pd' is not defined",
     "output_type": "error",
     "traceback": [
      "\u001b[31m---------------------------------------------------------------------------\u001b[39m",
      "\u001b[31mNameError\u001b[39m                                 Traceback (most recent call last)",
      "\u001b[36mCell\u001b[39m\u001b[36m \u001b[39m\u001b[32mIn[2]\u001b[39m\u001b[32m, line 1\u001b[39m\n\u001b[32m----> \u001b[39m\u001b[32m1\u001b[39m customer = \u001b[43mpd\u001b[49m.read_csv(\u001b[33m\"\u001b[39m\u001b[33mdata/blinkit_customer_feedback.csv\u001b[39m\u001b[33m\"\u001b[39m)\n",
      "\u001b[31mNameError\u001b[39m: name 'pd' is not defined"
     ]
    }
   ],
   "source": [
    "customer = pd.read_csv(\"data/blinkit_customer_feedback.csv\")"
   ]
  },
  {
   "cell_type": "code",
   "execution_count": 3,
   "id": "7259a1bd-93f5-4e44-816c-eef782e786bf",
   "metadata": {},
   "outputs": [
    {
     "ename": "NameError",
     "evalue": "name 'customer' is not defined",
     "output_type": "error",
     "traceback": [
      "\u001b[31m---------------------------------------------------------------------------\u001b[39m",
      "\u001b[31mNameError\u001b[39m                                 Traceback (most recent call last)",
      "\u001b[36mCell\u001b[39m\u001b[36m \u001b[39m\u001b[32mIn[3]\u001b[39m\u001b[32m, line 1\u001b[39m\n\u001b[32m----> \u001b[39m\u001b[32m1\u001b[39m \u001b[38;5;28mprint\u001b[39m(\u001b[43mcustomer\u001b[49m)\n",
      "\u001b[31mNameError\u001b[39m: name 'customer' is not defined"
     ]
    }
   ],
   "source": [
    "print(customer)"
   ]
  },
  {
   "cell_type": "code",
   "execution_count": 4,
   "id": "bc272ff3-697c-43ae-b873-9f4db00687e3",
   "metadata": {},
   "outputs": [
    {
     "ename": "NameError",
     "evalue": "name 'customer' is not defined",
     "output_type": "error",
     "traceback": [
      "\u001b[31m---------------------------------------------------------------------------\u001b[39m",
      "\u001b[31mNameError\u001b[39m                                 Traceback (most recent call last)",
      "\u001b[36mCell\u001b[39m\u001b[36m \u001b[39m\u001b[32mIn[4]\u001b[39m\u001b[32m, line 1\u001b[39m\n\u001b[32m----> \u001b[39m\u001b[32m1\u001b[39m \u001b[43mcustomer\u001b[49m.head()\n",
      "\u001b[31mNameError\u001b[39m: name 'customer' is not defined"
     ]
    }
   ],
   "source": [
    "customer.head()"
   ]
  },
  {
   "cell_type": "raw",
   "id": "a6fe74e5-8a7d-43a5-83ad-ff477f12bf33",
   "metadata": {},
   "source": [
    "customer.tail()"
   ]
  },
  {
   "cell_type": "code",
   "execution_count": 8,
   "id": "07789a72-74f1-48be-afa9-02b8d8ee0f8d",
   "metadata": {},
   "outputs": [
    {
     "name": "stdout",
     "output_type": "stream",
     "text": [
      "displaying the info of data set\n"
     ]
    }
   ],
   "source": [
    "print('displaying the info of data set')"
   ]
  },
  {
   "cell_type": "code",
   "execution_count": 9,
   "id": "129c3fac-4886-4582-bcc0-4ee522fc10c1",
   "metadata": {},
   "outputs": [
    {
     "name": "stdout",
     "output_type": "stream",
     "text": [
      "<class 'pandas.core.frame.DataFrame'>\n",
      "RangeIndex: 5000 entries, 0 to 4999\n",
      "Data columns (total 8 columns):\n",
      " #   Column             Non-Null Count  Dtype \n",
      "---  ------             --------------  ----- \n",
      " 0   feedback_id        5000 non-null   int64 \n",
      " 1   order_id           5000 non-null   int64 \n",
      " 2   customer_id        5000 non-null   int64 \n",
      " 3   rating             5000 non-null   int64 \n",
      " 4   feedback_text      5000 non-null   object\n",
      " 5   feedback_category  5000 non-null   object\n",
      " 6   sentiment          5000 non-null   object\n",
      " 7   feedback_date      5000 non-null   object\n",
      "dtypes: int64(4), object(4)\n",
      "memory usage: 312.6+ KB\n",
      "None\n"
     ]
    }
   ],
   "source": [
    "print(customer.info())"
   ]
  },
  {
   "cell_type": "code",
   "execution_count": 8,
   "id": "010653d2-e1bc-4ecf-8c60-90bc54013bde",
   "metadata": {
    "scrolled": true
   },
   "outputs": [
    {
     "name": "stdout",
     "output_type": "stream",
     "text": [
      "        feedback_id      order_id   customer_id      rating\n",
      "count  5.000000e+03  5.000000e+03  5.000000e+03  5000.00000\n",
      "mean   5.013616e+06  5.029129e+09  5.009685e+07     3.34440\n",
      "std    2.857341e+06  2.863533e+09  2.919082e+07     1.18982\n",
      "min    9.470000e+02  6.046500e+04  3.181300e+04     1.00000\n",
      "25%    2.576690e+06  2.531421e+09  2.404314e+07     3.00000\n",
      "50%    5.005833e+06  5.074378e+09  4.997808e+07     4.00000\n",
      "75%    7.486478e+06  7.488579e+09  7.621215e+07     4.00000\n",
      "max    9.999293e+06  9.998298e+09  9.989390e+07     5.00000\n"
     ]
    }
   ],
   "source": [
    "pd = customer.describe()\n",
    "print(pd)"
   ]
  },
  {
   "cell_type": "code",
   "execution_count": 4,
   "id": "69d3de9a-2d73-4272-be26-d9903fbe3202",
   "metadata": {},
   "outputs": [],
   "source": [
    "import pandas as pd\n"
   ]
  },
  {
   "cell_type": "code",
   "execution_count": 9,
   "id": "b9497067-827f-408b-8381-b89a45562272",
   "metadata": {},
   "outputs": [],
   "source": [
    "customer = pd.read_csv(\"data/blinkit_customer_feedback.csv\")"
   ]
  },
  {
   "cell_type": "code",
   "execution_count": 10,
   "id": "6592fcf2-a0e6-40f5-a854-d80472b92158",
   "metadata": {},
   "outputs": [
    {
     "name": "stdout",
     "output_type": "stream",
     "text": [
      "      feedback_id    order_id  customer_id  rating  \\\n",
      "0         2234710  1961864118     30065862       4   \n",
      "1         5450964  1549769649      9573071       3   \n",
      "2          482108  9185164487     45477575       3   \n",
      "3         4823104  9644738826     88067569       4   \n",
      "4         3537464  5427684290     83298567       3   \n",
      "...           ...         ...          ...     ...   \n",
      "4995      9024060  1669690997     62600289       3   \n",
      "4996      4715968  8340761903     53640286       3   \n",
      "4997      9621021  5936301790     87059497       4   \n",
      "4998      1134095  5710579377     67310893       4   \n",
      "4999      6578433  2494813730     28663279       4   \n",
      "\n",
      "                             feedback_text feedback_category sentiment  \\\n",
      "0            It was okay, nothing special.          Delivery   Neutral   \n",
      "1                 The order was incorrect.    App Experience  Negative   \n",
      "2            It was okay, nothing special.    App Experience   Neutral   \n",
      "3         The product met my expectations.    App Experience   Neutral   \n",
      "4     Product was damaged during delivery.          Delivery  Negative   \n",
      "...                                    ...               ...       ...   \n",
      "4995            Taste was not as expected.   Product Quality  Negative   \n",
      "4996    Average experience, could improve.   Product Quality   Neutral   \n",
      "4997    Average experience, could improve.    App Experience   Neutral   \n",
      "4998    Average experience, could improve.          Delivery   Neutral   \n",
      "4999         It was okay, nothing special.  Customer Service   Neutral   \n",
      "\n",
      "     feedback_date  \n",
      "0       2024-07-17  \n",
      "1       2024-05-28  \n",
      "2       2024-09-23  \n",
      "3       2023-11-24  \n",
      "4       2023-11-20  \n",
      "...            ...  \n",
      "4995    2023-12-25  \n",
      "4996    2023-11-27  \n",
      "4997    2024-06-21  \n",
      "4998    2024-06-06  \n",
      "4999    2023-08-23  \n",
      "\n",
      "[5000 rows x 8 columns]\n"
     ]
    }
   ],
   "source": [
    "print(customer)"
   ]
  },
  {
   "cell_type": "code",
   "execution_count": 11,
   "id": "9a6f39ea-302b-4cc8-a86a-4261b73baf95",
   "metadata": {},
   "outputs": [
    {
     "name": "stdout",
     "output_type": "stream",
     "text": [
      "shape:(5000, 8)\n"
     ]
    }
   ],
   "source": [
    "print(f'shape:{df.shape}')"
   ]
  },
  {
   "cell_type": "code",
   "execution_count": 13,
   "id": "c7ede0ad-5799-47e1-b6b9-b40ae4bedd58",
   "metadata": {},
   "outputs": [
    {
     "name": "stdout",
     "output_type": "stream",
     "text": [
      "colum,names:Index(['feedback_id', 'order_id', 'customer_id', 'rating', 'feedback_text',\n",
      "       'feedback_category', 'sentiment', 'feedback_date'],\n",
      "      dtype='object')\n"
     ]
    }
   ],
   "source": [
    "print(f'colum,names:{df.columns}')"
   ]
  },
  {
   "cell_type": "code",
   "execution_count": 18,
   "id": "6532d113-2405-4b8f-9f42-3bd0e0d4c9c5",
   "metadata": {},
   "outputs": [
    {
     "name": "stdout",
     "output_type": "stream",
     "text": [
      "feedback_id(single column return series)\n",
      "0       2234710\n",
      "1       5450964\n",
      "2        482108\n",
      "3       4823104\n",
      "4       3537464\n",
      "         ...   \n",
      "4995    9024060\n",
      "4996    4715968\n",
      "4997    9621021\n",
      "4998    1134095\n",
      "4999    6578433\n",
      "Name: feedback_id, Length: 5000, dtype: int64\n"
     ]
    }
   ],
   "source": [
    "print(\"feedback_id(single column return series)\")\n",
    "feedbackid = (customer['feedback_id'])\n",
    "print(feedbackid)"
   ]
  },
  {
   "cell_type": "markdown",
   "id": "c1b1e80c-f6a3-4f49-9fb6-4c33a0024ca7",
   "metadata": {},
   "source": [
    "#selecting multiple column"
   ]
  },
  {
   "cell_type": "code",
   "execution_count": 21,
   "id": "3602e3f2-8dcf-4702-b0bc-1281c3dcd551",
   "metadata": {},
   "outputs": [
    {
     "name": "stdout",
     "output_type": "stream",
     "text": [
      "\n",
      "Subset with feedbackid,order id,customer id\n",
      "      feedback_id    order_id  customer_id\n",
      "0         2234710  1961864118     30065862\n",
      "1         5450964  1549769649      9573071\n",
      "2          482108  9185164487     45477575\n",
      "3         4823104  9644738826     88067569\n",
      "4         3537464  5427684290     83298567\n",
      "...           ...         ...          ...\n",
      "4995      9024060  1669690997     62600289\n",
      "4996      4715968  8340761903     53640286\n",
      "4997      9621021  5936301790     87059497\n",
      "4998      1134095  5710579377     67310893\n",
      "4999      6578433  2494813730     28663279\n",
      "\n",
      "[5000 rows x 3 columns]\n"
     ]
    }
   ],
   "source": [
    "subset = customer[[\"feedback_id\",\"order_id\",\"customer_id\"]]\n",
    "print('\\nSubset with feedbackid,order id,customer id')\n",
    "print(subset)"
   ]
  },
  {
   "cell_type": "markdown",
   "id": "7fbe759c-64a0-4f80-8355-95e89499a202",
   "metadata": {},
   "source": [
    "#how to filter row based on single condition"
   ]
  },
  {
   "cell_type": "code",
   "execution_count": 26,
   "id": "0629e772-dbad-4528-8e2a-bf175469185c",
   "metadata": {},
   "outputs": [
    {
     "name": "stdout",
     "output_type": "stream",
     "text": [
      "id with incorrect format\n",
      "      feedback_id    order_id  customer_id  rating  \\\n",
      "2          482108  9185164487     45477575       3   \n",
      "6          230696  4898355547     13284996       4   \n",
      "11         258023  3539286337     77559557       3   \n",
      "16         121425  8195544338     26199489       4   \n",
      "53         417728  3773745777     67701771       4   \n",
      "...           ...         ...          ...     ...   \n",
      "4882       977874  3917847107     90665975       3   \n",
      "4906       833508  4726520098     48284116       4   \n",
      "4910       600683  2595161999     45586151       4   \n",
      "4926       955323  3043993017     13455530       2   \n",
      "4949       886263  4914874727     80517784       5   \n",
      "\n",
      "                                          feedback_text feedback_category  \\\n",
      "2                         It was okay, nothing special.    App Experience   \n",
      "6                                   Highly recommended!   Product Quality   \n",
      "11    Delivery was fine, but the product could be be...          Delivery   \n",
      "16    Nothing to complain about, but nothing excepti...          Delivery   \n",
      "53                        It was okay, nothing special.  Customer Service   \n",
      "...                                                 ...               ...   \n",
      "4882  Nothing to complain about, but nothing excepti...    App Experience   \n",
      "4906                      It was okay, nothing special.  Customer Service   \n",
      "4910                 Customer service was very helpful.          Delivery   \n",
      "4926                  Items were missing from my order.    App Experience   \n",
      "4949                   Items were in perfect condition.  Customer Service   \n",
      "\n",
      "     sentiment feedback_date  \n",
      "2      Neutral    2024-09-23  \n",
      "6     Positive    2023-04-16  \n",
      "11     Neutral    2023-04-25  \n",
      "16     Neutral    2023-04-26  \n",
      "53     Neutral    2024-05-02  \n",
      "...        ...           ...  \n",
      "4882   Neutral    2024-08-13  \n",
      "4906   Neutral    2023-04-19  \n",
      "4910  Positive    2023-08-12  \n",
      "4926  Negative    2023-11-25  \n",
      "4949  Positive    2023-06-13  \n",
      "\n",
      "[489 rows x 8 columns]\n"
     ]
    }
   ],
   "source": [
    "x = customer[customer['feedback_id']<999999]\n",
    "print('id with incorrect format')\n",
    "print(x)"
   ]
  },
  {
   "cell_type": "code",
   "execution_count": 39,
   "id": "e30d0a2f-63e3-4e94-a486-788c18649f2b",
   "metadata": {},
   "outputs": [
    {
     "name": "stdout",
     "output_type": "stream",
     "text": [
      "id with incorrect format\n",
      "      feedback_id    order_id  customer_id  rating  \\\n",
      "0         2234710  1961864118     30065862       4   \n",
      "1         5450964  1549769649      9573071       3   \n",
      "3         4823104  9644738826     88067569       4   \n",
      "4         3537464  5427684290     83298567       3   \n",
      "5         4089724  3265154092     43367112       2   \n",
      "...           ...         ...          ...     ...   \n",
      "4995      9024060  1669690997     62600289       3   \n",
      "4996      4715968  8340761903     53640286       3   \n",
      "4997      9621021  5936301790     87059497       4   \n",
      "4998      1134095  5710579377     67310893       4   \n",
      "4999      6578433  2494813730     28663279       4   \n",
      "\n",
      "                             feedback_text feedback_category sentiment  \\\n",
      "0            It was okay, nothing special.          Delivery   Neutral   \n",
      "1                 The order was incorrect.    App Experience  Negative   \n",
      "3         The product met my expectations.    App Experience   Neutral   \n",
      "4     Product was damaged during delivery.          Delivery  Negative   \n",
      "5     Product was damaged during delivery.  Customer Service  Negative   \n",
      "...                                    ...               ...       ...   \n",
      "4995            Taste was not as expected.   Product Quality  Negative   \n",
      "4996    Average experience, could improve.   Product Quality   Neutral   \n",
      "4997    Average experience, could improve.    App Experience   Neutral   \n",
      "4998    Average experience, could improve.          Delivery   Neutral   \n",
      "4999         It was okay, nothing special.  Customer Service   Neutral   \n",
      "\n",
      "     feedback_date  \n",
      "0       2024-07-17  \n",
      "1       2024-05-28  \n",
      "3       2023-11-24  \n",
      "4       2023-11-20  \n",
      "5       2023-03-18  \n",
      "...            ...  \n",
      "4995    2023-12-25  \n",
      "4996    2023-11-27  \n",
      "4997    2024-06-21  \n",
      "4998    2024-06-06  \n",
      "4999    2023-08-23  \n",
      "\n",
      "[4511 rows x 8 columns]\n"
     ]
    }
   ],
   "source": [
    "y = customer[customer['feedback_id']>999999]\n",
    "print('id with incorrect format')\n",
    "print(y)"
   ]
  },
  {
   "cell_type": "code",
   "execution_count": 37,
   "id": "8d8e8a10-fae5-4606-986f-7272504480d6",
   "metadata": {},
   "outputs": [
    {
     "name": "stdout",
     "output_type": "stream",
     "text": [
      "id with incorrect format\n",
      "      feedback_id    order_id  customer_id  rating  \\\n",
      "0         2234710  1961864118     30065862       4   \n",
      "1         5450964  1549769649      9573071       3   \n",
      "3         4823104  9644738826     88067569       4   \n",
      "4         3537464  5427684290     83298567       3   \n",
      "5         4089724  3265154092     43367112       2   \n",
      "...           ...         ...          ...     ...   \n",
      "4995      9024060  1669690997     62600289       3   \n",
      "4996      4715968  8340761903     53640286       3   \n",
      "4997      9621021  5936301790     87059497       4   \n",
      "4998      1134095  5710579377     67310893       4   \n",
      "4999      6578433  2494813730     28663279       4   \n",
      "\n",
      "                             feedback_text feedback_category sentiment  \\\n",
      "0            It was okay, nothing special.          Delivery   Neutral   \n",
      "1                 The order was incorrect.    App Experience  Negative   \n",
      "3         The product met my expectations.    App Experience   Neutral   \n",
      "4     Product was damaged during delivery.          Delivery  Negative   \n",
      "5     Product was damaged during delivery.  Customer Service  Negative   \n",
      "...                                    ...               ...       ...   \n",
      "4995            Taste was not as expected.   Product Quality  Negative   \n",
      "4996    Average experience, could improve.   Product Quality   Neutral   \n",
      "4997    Average experience, could improve.    App Experience   Neutral   \n",
      "4998    Average experience, could improve.          Delivery   Neutral   \n",
      "4999         It was okay, nothing special.  Customer Service   Neutral   \n",
      "\n",
      "     feedback_date  \n",
      "0       2024-07-17  \n",
      "1       2024-05-28  \n",
      "3       2023-11-24  \n",
      "4       2023-11-20  \n",
      "5       2023-03-18  \n",
      "...            ...  \n",
      "4995    2023-12-25  \n",
      "4996    2023-11-27  \n",
      "4997    2024-06-21  \n",
      "4998    2024-06-06  \n",
      "4999    2023-08-23  \n",
      "\n",
      "[4511 rows x 8 columns]\n"
     ]
    }
   ],
   "source": [
    "z = customer[(customer['feedback_id'] > 999999) & (customer['feedback_id'] < 9999999)]\n",
    "print('id with incorrect format')\n",
    "print(z)"
   ]
  },
  {
   "cell_type": "code",
   "execution_count": 45,
   "id": "4810fb47-1298-4bea-913d-66bb6327d418",
   "metadata": {},
   "outputs": [
    {
     "name": "stdout",
     "output_type": "stream",
     "text": [
      "id with incorrect format\n",
      "      feedback_id   order_id  customer_id  rating  \\\n",
      "9         2257242  374186990     52215833       3   \n",
      "18        7168244   65827885     47577193       1   \n",
      "27        1055307  964822979     88520326       3   \n",
      "34        2400571  277376321     89784343       4   \n",
      "45        8956798   32613017     82594354       5   \n",
      "...           ...        ...          ...     ...   \n",
      "4923      6309008  769731596     97825663       5   \n",
      "4927      6798988  274863669     39140039       4   \n",
      "4947      9338884  856799416     25770577       4   \n",
      "4966      7532031  169867835     59545278       4   \n",
      "4993      4172796  448732557     80952275       3   \n",
      "\n",
      "                                          feedback_text feedback_category  \\\n",
      "9                      The product met my expectations.    App Experience   \n",
      "18                 Product was damaged during delivery.          Delivery   \n",
      "27                 Delivery was late and I was unhappy.   Product Quality   \n",
      "34                      Great prices and fast delivery!    App Experience   \n",
      "45                   Excellent quality, will buy again!          Delivery   \n",
      "...                                                 ...               ...   \n",
      "4923                      Very fresh and well-packaged.   Product Quality   \n",
      "4927  Delivery was fine, but the product could be be...  Customer Service   \n",
      "4947                      It was okay, nothing special.    App Experience   \n",
      "4966                        Good selection of products.  Customer Service   \n",
      "4993                            I had a bad experience.          Delivery   \n",
      "\n",
      "     sentiment feedback_date  \n",
      "9      Neutral    2023-08-09  \n",
      "18    Negative    2023-07-27  \n",
      "27    Negative    2024-07-13  \n",
      "34    Positive    2024-07-28  \n",
      "45    Positive    2023-03-17  \n",
      "...        ...           ...  \n",
      "4923  Positive    2024-10-10  \n",
      "4927   Neutral    2024-04-11  \n",
      "4947   Neutral    2023-09-10  \n",
      "4966  Positive    2023-08-16  \n",
      "4993  Negative    2023-11-30  \n",
      "\n",
      "[498 rows x 8 columns]\n"
     ]
    }
   ],
   "source": [
    "x = customer[customer['order_id']<999999999]\n",
    "print('id with incorrect format')\n",
    "print(x)"
   ]
  },
  {
   "cell_type": "code",
   "execution_count": 46,
   "id": "f5959f65-33ff-487c-916a-8e14b51023dd",
   "metadata": {},
   "outputs": [
    {
     "name": "stdout",
     "output_type": "stream",
     "text": [
      "id with incorrect format\n",
      "      feedback_id    order_id  customer_id  rating  \\\n",
      "0         2234710  1961864118     30065862       4   \n",
      "1         5450964  1549769649      9573071       3   \n",
      "2          482108  9185164487     45477575       3   \n",
      "3         4823104  9644738826     88067569       4   \n",
      "4         3537464  5427684290     83298567       3   \n",
      "...           ...         ...          ...     ...   \n",
      "4995      9024060  1669690997     62600289       3   \n",
      "4996      4715968  8340761903     53640286       3   \n",
      "4997      9621021  5936301790     87059497       4   \n",
      "4998      1134095  5710579377     67310893       4   \n",
      "4999      6578433  2494813730     28663279       4   \n",
      "\n",
      "                             feedback_text feedback_category sentiment  \\\n",
      "0            It was okay, nothing special.          Delivery   Neutral   \n",
      "1                 The order was incorrect.    App Experience  Negative   \n",
      "2            It was okay, nothing special.    App Experience   Neutral   \n",
      "3         The product met my expectations.    App Experience   Neutral   \n",
      "4     Product was damaged during delivery.          Delivery  Negative   \n",
      "...                                    ...               ...       ...   \n",
      "4995            Taste was not as expected.   Product Quality  Negative   \n",
      "4996    Average experience, could improve.   Product Quality   Neutral   \n",
      "4997    Average experience, could improve.    App Experience   Neutral   \n",
      "4998    Average experience, could improve.          Delivery   Neutral   \n",
      "4999         It was okay, nothing special.  Customer Service   Neutral   \n",
      "\n",
      "     feedback_date  \n",
      "0       2024-07-17  \n",
      "1       2024-05-28  \n",
      "2       2024-09-23  \n",
      "3       2023-11-24  \n",
      "4       2023-11-20  \n",
      "...            ...  \n",
      "4995    2023-12-25  \n",
      "4996    2023-11-27  \n",
      "4997    2024-06-21  \n",
      "4998    2024-06-06  \n",
      "4999    2023-08-23  \n",
      "\n",
      "[4502 rows x 8 columns]\n"
     ]
    }
   ],
   "source": [
    "y = customer[customer['order_id']>999999999]\n",
    "print('id with incorrect format')\n",
    "print(y)"
   ]
  },
  {
   "cell_type": "code",
   "execution_count": 49,
   "id": "b0c7330e-c0d4-4713-84c5-95509068b4b0",
   "metadata": {},
   "outputs": [
    {
     "name": "stdout",
     "output_type": "stream",
     "text": [
      "id with incorrect format\n",
      "      feedback_id    order_id  customer_id  rating  \\\n",
      "0         2234710  1961864118     30065862       4   \n",
      "2          482108  9185164487     45477575       3   \n",
      "3         4823104  9644738826     88067569       4   \n",
      "4         3537464  5427684290     83298567       3   \n",
      "5         4089724  3265154092     43367112       2   \n",
      "...           ...         ...          ...     ...   \n",
      "4995      9024060  1669690997     62600289       3   \n",
      "4996      4715968  8340761903     53640286       3   \n",
      "4997      9621021  5936301790     87059497       4   \n",
      "4998      1134095  5710579377     67310893       4   \n",
      "4999      6578433  2494813730     28663279       4   \n",
      "\n",
      "                             feedback_text feedback_category sentiment  \\\n",
      "0            It was okay, nothing special.          Delivery   Neutral   \n",
      "2            It was okay, nothing special.    App Experience   Neutral   \n",
      "3         The product met my expectations.    App Experience   Neutral   \n",
      "4     Product was damaged during delivery.          Delivery  Negative   \n",
      "5     Product was damaged during delivery.  Customer Service  Negative   \n",
      "...                                    ...               ...       ...   \n",
      "4995            Taste was not as expected.   Product Quality  Negative   \n",
      "4996    Average experience, could improve.   Product Quality   Neutral   \n",
      "4997    Average experience, could improve.    App Experience   Neutral   \n",
      "4998    Average experience, could improve.          Delivery   Neutral   \n",
      "4999         It was okay, nothing special.  Customer Service   Neutral   \n",
      "\n",
      "     feedback_date  \n",
      "0       2024-07-17  \n",
      "2       2024-09-23  \n",
      "3       2023-11-24  \n",
      "4       2023-11-20  \n",
      "5       2023-03-18  \n",
      "...            ...  \n",
      "4995    2023-12-25  \n",
      "4996    2023-11-27  \n",
      "4997    2024-06-21  \n",
      "4998    2024-06-06  \n",
      "4999    2023-08-23  \n",
      "\n",
      "[4507 rows x 8 columns]\n"
     ]
    }
   ],
   "source": [
    "x = customer[customer['customer_id']>9999999]\n",
    "print('id with incorrect format')\n",
    "print(x)"
   ]
  },
  {
   "cell_type": "code",
   "execution_count": 53,
   "id": "9ff8a6c3-0628-4d1e-a96f-c7ff100fe3f3",
   "metadata": {},
   "outputs": [
    {
     "name": "stdout",
     "output_type": "stream",
     "text": [
      "id with incorrect format\n",
      "      feedback_id    order_id  customer_id  rating  \\\n",
      "1         5450964  1549769649      9573071       3   \n",
      "24        3567003  1769493463      3292927       2   \n",
      "32        4382390  8395583761      1989720       4   \n",
      "44        5957700  1787380558      5140660       4   \n",
      "61        7245923  6706793332      6247821       2   \n",
      "...           ...         ...          ...     ...   \n",
      "4939      9536980  3186586558      9987182       5   \n",
      "4944      7901453  1996683408      5043760       5   \n",
      "4956      2982366  1940918101      4356173       4   \n",
      "4960      6644516  8755280486      2566268       3   \n",
      "4989      8549407  7380361209      7591711       2   \n",
      "\n",
      "                                          feedback_text feedback_category  \\\n",
      "1                              The order was incorrect.    App Experience   \n",
      "24                              I had a bad experience.    App Experience   \n",
      "32                      Great prices and fast delivery!    App Experience   \n",
      "44    Nothing to complain about, but nothing excepti...    App Experience   \n",
      "61                              I had a bad experience.          Delivery   \n",
      "...                                                 ...               ...   \n",
      "4939                                Highly recommended!          Delivery   \n",
      "4944                 Customer service was very helpful.  Customer Service   \n",
      "4956                   The product met my expectations.   Product Quality   \n",
      "4960                        Not worth the price I paid.          Delivery   \n",
      "4989               Delivery was late and I was unhappy.    App Experience   \n",
      "\n",
      "     sentiment feedback_date  \n",
      "1     Negative    2024-05-28  \n",
      "24    Negative    2024-06-26  \n",
      "32    Positive    2024-08-04  \n",
      "44     Neutral    2023-11-08  \n",
      "61    Negative    2024-10-09  \n",
      "...        ...           ...  \n",
      "4939  Positive    2024-02-21  \n",
      "4944  Positive    2024-01-30  \n",
      "4956   Neutral    2023-10-03  \n",
      "4960  Negative    2024-07-30  \n",
      "4989  Negative    2023-06-27  \n",
      "\n",
      "[493 rows x 8 columns]\n"
     ]
    }
   ],
   "source": [
    "y = customer[customer['customer_id']<9999999]\n",
    "print('id with incorrect format')\n",
    "print(y)"
   ]
  },
  {
   "cell_type": "code",
   "execution_count": 56,
   "id": "adfe1521-2759-43a2-969b-afc2b46dc4c6",
   "metadata": {},
   "outputs": [
    {
     "name": "stdout",
     "output_type": "stream",
     "text": [
      "id with incorrect format\n",
      "      feedback_id    order_id  customer_id  rating  \\\n",
      "13        3158837  5504941865     76512976       5   \n",
      "22        1592958  2268306684     66742602       5   \n",
      "45        8956798    32613017     82594354       5   \n",
      "49        4940244  2177917034     12402437       5   \n",
      "84        5568145  6045698170       666589       5   \n",
      "...           ...         ...          ...     ...   \n",
      "4964      2895853  1542448934     97033691       5   \n",
      "4967      7907169  9493456526     77811864       5   \n",
      "4976      6973023  2811341619     30188374       5   \n",
      "4982      7574741  6418604551     12967305       5   \n",
      "4990      9432013  5053033745     66485571       5   \n",
      "\n",
      "                            feedback_text feedback_category sentiment  \\\n",
      "13                    Highly recommended!    App Experience  Positive   \n",
      "22    Overall good experience, thank you!          Delivery  Positive   \n",
      "45     Excellent quality, will buy again!          Delivery  Positive   \n",
      "49           Will definitely order again.    App Experience  Positive   \n",
      "84        Great prices and fast delivery!          Delivery  Positive   \n",
      "...                                   ...               ...       ...   \n",
      "4964         Very happy with the service!          Delivery  Positive   \n",
      "4967      Great prices and fast delivery!  Customer Service  Positive   \n",
      "4976   Customer service was very helpful.  Customer Service  Positive   \n",
      "4982      Great prices and fast delivery!  Customer Service  Positive   \n",
      "4990   Excellent quality, will buy again!   Product Quality  Positive   \n",
      "\n",
      "     feedback_date  \n",
      "13      2024-01-28  \n",
      "22      2024-05-28  \n",
      "45      2023-03-17  \n",
      "49      2024-02-08  \n",
      "84      2024-01-24  \n",
      "...            ...  \n",
      "4964    2023-10-13  \n",
      "4967    2023-04-02  \n",
      "4976    2024-05-24  \n",
      "4982    2023-07-25  \n",
      "4990    2024-04-09  \n",
      "\n",
      "[816 rows x 8 columns]\n"
     ]
    }
   ],
   "source": [
    "y = customer[customer['rating']>=5]\n",
    "print('id with incorrect format')\n",
    "print(y)"
   ]
  },
  {
   "cell_type": "code",
   "execution_count": 59,
   "id": "ed0104e1-09a0-4be3-8cd8-bd64664f0b25",
   "metadata": {},
   "outputs": [
    {
     "name": "stdout",
     "output_type": "stream",
     "text": [
      "id with incorrect format\n",
      "      feedback_id    order_id  customer_id  rating  \\\n",
      "0         2234710  1961864118     30065862       4   \n",
      "3         4823104  9644738826     88067569       4   \n",
      "6          230696  4898355547     13284996       4   \n",
      "12        3081099  9171116867     87107263       4   \n",
      "14        9465932  5868326481     37556526       4   \n",
      "...           ...         ...          ...     ...   \n",
      "4985      3325366  4753989820     81500385       4   \n",
      "4988      3557986  7703854141     86483673       4   \n",
      "4997      9621021  5936301790     87059497       4   \n",
      "4998      1134095  5710579377     67310893       4   \n",
      "4999      6578433  2494813730     28663279       4   \n",
      "\n",
      "                                          feedback_text feedback_category  \\\n",
      "0                         It was okay, nothing special.          Delivery   \n",
      "3                      The product met my expectations.    App Experience   \n",
      "6                                   Highly recommended!   Product Quality   \n",
      "12                     The product met my expectations.  Customer Service   \n",
      "14    Nothing to complain about, but nothing excepti...   Product Quality   \n",
      "...                                                 ...               ...   \n",
      "4985                    Great prices and fast delivery!          Delivery   \n",
      "4988                 Excellent quality, will buy again!  Customer Service   \n",
      "4997                 Average experience, could improve.    App Experience   \n",
      "4998                 Average experience, could improve.          Delivery   \n",
      "4999                      It was okay, nothing special.  Customer Service   \n",
      "\n",
      "     sentiment feedback_date  \n",
      "0      Neutral    2024-07-17  \n",
      "3      Neutral    2023-11-24  \n",
      "6     Positive    2023-04-16  \n",
      "12     Neutral    2023-10-22  \n",
      "14     Neutral    2024-03-15  \n",
      "...        ...           ...  \n",
      "4985  Positive    2023-10-06  \n",
      "4988  Positive    2024-05-13  \n",
      "4997   Neutral    2024-06-21  \n",
      "4998   Neutral    2024-06-06  \n",
      "4999   Neutral    2023-08-23  \n",
      "\n",
      "[1708 rows x 8 columns]\n"
     ]
    }
   ],
   "source": [
    "y = customer[(customer['rating']>=4) & (customer['rating'] != 5)]\n",
    "print('id with incorrect format')\n",
    "print(y)"
   ]
  },
  {
   "cell_type": "code",
   "execution_count": 61,
   "id": "0de631ad-d842-4206-933a-f7d8d6a5153f",
   "metadata": {},
   "outputs": [
    {
     "name": "stdout",
     "output_type": "stream",
     "text": [
      "id with incorrect format\n",
      "      feedback_id    order_id  customer_id  rating  \\\n",
      "1         5450964  1549769649      9573071       3   \n",
      "2          482108  9185164487     45477575       3   \n",
      "4         3537464  5427684290     83298567       3   \n",
      "8         7380970  6006693867     24496983       3   \n",
      "9         2257242   374186990     52215833       3   \n",
      "...           ...         ...          ...     ...   \n",
      "4992      9054314  9690396315     46563355       3   \n",
      "4993      4172796   448732557     80952275       3   \n",
      "4994      6844012  4927306668     97033691       3   \n",
      "4995      9024060  1669690997     62600289       3   \n",
      "4996      4715968  8340761903     53640286       3   \n",
      "\n",
      "                             feedback_text feedback_category sentiment  \\\n",
      "1                 The order was incorrect.    App Experience  Negative   \n",
      "2            It was okay, nothing special.    App Experience   Neutral   \n",
      "4     Product was damaged during delivery.          Delivery  Negative   \n",
      "8     Product was damaged during delivery.          Delivery  Negative   \n",
      "9         The product met my expectations.    App Experience   Neutral   \n",
      "...                                    ...               ...       ...   \n",
      "4992            Taste was not as expected.    App Experience  Negative   \n",
      "4993               I had a bad experience.          Delivery  Negative   \n",
      "4994    Average experience, could improve.    App Experience   Neutral   \n",
      "4995            Taste was not as expected.   Product Quality  Negative   \n",
      "4996    Average experience, could improve.   Product Quality   Neutral   \n",
      "\n",
      "     feedback_date  \n",
      "1       2024-05-28  \n",
      "2       2024-09-23  \n",
      "4       2023-11-20  \n",
      "8       2023-07-14  \n",
      "9       2023-08-09  \n",
      "...            ...  \n",
      "4992    2024-09-29  \n",
      "4993    2023-11-30  \n",
      "4994    2023-06-08  \n",
      "4995    2023-12-25  \n",
      "4996    2023-11-27  \n",
      "\n",
      "[1398 rows x 8 columns]\n"
     ]
    }
   ],
   "source": [
    "y = customer[(customer['rating']>=3) & (customer['rating'] != 5) & (customer['rating'] != 4)]\n",
    "print('id with incorrect format')\n",
    "print(y)"
   ]
  },
  {
   "cell_type": "code",
   "execution_count": 63,
   "id": "b0e7750a-4c67-4f4c-a133-bb700858959d",
   "metadata": {},
   "outputs": [
    {
     "name": "stdout",
     "output_type": "stream",
     "text": [
      "id with incorrect format\n",
      "      feedback_id    order_id  customer_id  rating  \\\n",
      "5         4089724  3265154092     43367112       2   \n",
      "7         2259308  6568151549     88866835       2   \n",
      "10        1837573  4455336265     43431724       2   \n",
      "20        3769939  6625178717     62068277       2   \n",
      "21        9592296  7169557514     84824280       2   \n",
      "...           ...         ...          ...     ...   \n",
      "4959      4822494  7598489331     84066402       2   \n",
      "4981      4436657  8732072897     12077371       2   \n",
      "4983      2088066  4989511905     41972994       2   \n",
      "4984      1504694  2520527893     51476157       2   \n",
      "4989      8549407  7380361209      7591711       2   \n",
      "\n",
      "                             feedback_text feedback_category sentiment  \\\n",
      "5     Product was damaged during delivery.  Customer Service  Negative   \n",
      "7                  I had a bad experience.    App Experience  Negative   \n",
      "10              Taste was not as expected.          Delivery  Negative   \n",
      "20       Items were missing from my order.   Product Quality  Negative   \n",
      "21       Customer service was not helpful.   Product Quality  Negative   \n",
      "...                                    ...               ...       ...   \n",
      "4959               The packaging was poor.    App Experience  Negative   \n",
      "4981            Taste was not as expected.   Product Quality  Negative   \n",
      "4983           Not worth the price I paid.          Delivery  Negative   \n",
      "4984              The order was incorrect.   Product Quality  Negative   \n",
      "4989  Delivery was late and I was unhappy.    App Experience  Negative   \n",
      "\n",
      "     feedback_date  \n",
      "5       2023-03-18  \n",
      "7       2024-03-31  \n",
      "10      2023-08-30  \n",
      "20      2023-07-01  \n",
      "21      2023-03-21  \n",
      "...            ...  \n",
      "4959    2024-07-20  \n",
      "4981    2023-06-14  \n",
      "4983    2023-04-03  \n",
      "4984    2024-10-02  \n",
      "4989    2023-06-27  \n",
      "\n",
      "[538 rows x 8 columns]\n"
     ]
    }
   ],
   "source": [
    "y = customer[(customer['rating']>=2) & (customer['rating'] != 5) & (customer['rating'] != 4) & (customer['rating'] != 3)]\n",
    "print('id with incorrect format')\n",
    "print(y)"
   ]
  },
  {
   "cell_type": "code",
   "execution_count": 64,
   "id": "f4eb8f6b-13e8-44d3-b864-55d7ce12abd9",
   "metadata": {},
   "outputs": [
    {
     "name": "stdout",
     "output_type": "stream",
     "text": [
      "id with incorrect format\n",
      "      feedback_id    order_id  customer_id  rating  \\\n",
      "18        7168244    65827885     47577193       1   \n",
      "52        2074845  3381573131     67386193       1   \n",
      "63        2222062  1971008155      2457734       1   \n",
      "70        5614682  2122832513     55028958       1   \n",
      "82        4994827  2060061337     29272253       1   \n",
      "...           ...         ...          ...     ...   \n",
      "4972      5856700  8447536518     48160359       1   \n",
      "4978      4161917  7446009755     71767248       1   \n",
      "4980      8068149  7147677361     97475543       1   \n",
      "4987      5321532  5824924668     49881540       1   \n",
      "4991      5963618  4859489972     12305040       1   \n",
      "\n",
      "                             feedback_text feedback_category sentiment  \\\n",
      "18    Product was damaged during delivery.          Delivery  Negative   \n",
      "52    Delivery was late and I was unhappy.          Delivery  Negative   \n",
      "63       Items were missing from my order.    App Experience  Negative   \n",
      "70       Customer service was not helpful.  Customer Service  Negative   \n",
      "82       Customer service was not helpful.    App Experience  Negative   \n",
      "...                                    ...               ...       ...   \n",
      "4972              The order was incorrect.  Customer Service  Negative   \n",
      "4978  Delivery was late and I was unhappy.    App Experience  Negative   \n",
      "4980            Taste was not as expected.          Delivery  Negative   \n",
      "4987              The order was incorrect.   Product Quality  Negative   \n",
      "4991            Taste was not as expected.   Product Quality  Negative   \n",
      "\n",
      "     feedback_date  \n",
      "18      2023-07-27  \n",
      "52      2024-07-16  \n",
      "63      2023-10-23  \n",
      "70      2024-02-17  \n",
      "82      2023-04-15  \n",
      "...            ...  \n",
      "4972    2023-12-21  \n",
      "4978    2023-06-15  \n",
      "4980    2024-07-12  \n",
      "4987    2023-11-19  \n",
      "4991    2023-07-15  \n",
      "\n",
      "[540 rows x 8 columns]\n"
     ]
    }
   ],
   "source": [
    "y = customer[(customer['rating']>=1) & (customer['rating'] != 5) & (customer['rating'] != 4) & (customer['rating'] != 3) &(customer['rating'] != 2)]\n",
    "print('id with incorrect format')\n",
    "print(y)"
   ]
  },
  {
   "cell_type": "code",
   "execution_count": 73,
   "id": "bdc98fe9-a41f-45b7-8f4c-6e7ee9aafaf5",
   "metadata": {},
   "outputs": [
    {
     "name": "stdout",
     "output_type": "stream",
     "text": [
      "id with incorrect format\n",
      "      feedback_id    order_id  customer_id  rating  \\\n",
      "6          230696  4898355547     13284996       4   \n",
      "13        3158837  5504941865     76512976       5   \n",
      "15        8111644  2137046916     12059049       4   \n",
      "22        1592958  2268306684     66742602       5   \n",
      "32        4382390  8395583761      1989720       4   \n",
      "...           ...         ...          ...     ...   \n",
      "4977      4926150  5562576298     10019218       4   \n",
      "4982      7574741  6418604551     12967305       5   \n",
      "4985      3325366  4753989820     81500385       4   \n",
      "4988      3557986  7703854141     86483673       4   \n",
      "4990      9432013  5053033745     66485571       5   \n",
      "\n",
      "                            feedback_text feedback_category sentiment  \\\n",
      "6                     Highly recommended!   Product Quality  Positive   \n",
      "13                    Highly recommended!    App Experience  Positive   \n",
      "15    Overall good experience, thank you!  Customer Service  Positive   \n",
      "22    Overall good experience, thank you!          Delivery  Positive   \n",
      "32        Great prices and fast delivery!    App Experience  Positive   \n",
      "...                                   ...               ...       ...   \n",
      "4977                  Highly recommended!    App Experience  Positive   \n",
      "4982      Great prices and fast delivery!  Customer Service  Positive   \n",
      "4985      Great prices and fast delivery!          Delivery  Positive   \n",
      "4988   Excellent quality, will buy again!  Customer Service  Positive   \n",
      "4990   Excellent quality, will buy again!   Product Quality  Positive   \n",
      "\n",
      "     feedback_date  \n",
      "6       2023-04-16  \n",
      "13      2024-01-28  \n",
      "15      2024-02-03  \n",
      "22      2024-05-28  \n",
      "32      2024-08-04  \n",
      "...            ...  \n",
      "4977    2023-11-08  \n",
      "4982    2023-07-25  \n",
      "4985    2023-10-06  \n",
      "4988    2024-05-13  \n",
      "4990    2024-04-09  \n",
      "\n",
      "[1620 rows x 8 columns]\n"
     ]
    }
   ],
   "source": [
    "x = customer[customer['sentiment'] == 'Positive']\n",
    "print('id with incorrect format')\n",
    "print(x)"
   ]
  },
  {
   "cell_type": "code",
   "execution_count": 75,
   "id": "4ce02ba2-c81b-4596-b626-cbc6fb47bb1f",
   "metadata": {},
   "outputs": [
    {
     "name": "stdout",
     "output_type": "stream",
     "text": [
      "id with incorrect format\n",
      "      feedback_id    order_id  customer_id  rating  \\\n",
      "1         5450964  1549769649      9573071       3   \n",
      "4         3537464  5427684290     83298567       3   \n",
      "5         4089724  3265154092     43367112       2   \n",
      "7         2259308  6568151549     88866835       2   \n",
      "8         7380970  6006693867     24496983       3   \n",
      "...           ...         ...          ...     ...   \n",
      "4989      8549407  7380361209      7591711       2   \n",
      "4991      5963618  4859489972     12305040       1   \n",
      "4992      9054314  9690396315     46563355       3   \n",
      "4993      4172796   448732557     80952275       3   \n",
      "4995      9024060  1669690997     62600289       3   \n",
      "\n",
      "                             feedback_text feedback_category sentiment  \\\n",
      "1                 The order was incorrect.    App Experience  Negative   \n",
      "4     Product was damaged during delivery.          Delivery  Negative   \n",
      "5     Product was damaged during delivery.  Customer Service  Negative   \n",
      "7                  I had a bad experience.    App Experience  Negative   \n",
      "8     Product was damaged during delivery.          Delivery  Negative   \n",
      "...                                    ...               ...       ...   \n",
      "4989  Delivery was late and I was unhappy.    App Experience  Negative   \n",
      "4991            Taste was not as expected.   Product Quality  Negative   \n",
      "4992            Taste was not as expected.    App Experience  Negative   \n",
      "4993               I had a bad experience.          Delivery  Negative   \n",
      "4995            Taste was not as expected.   Product Quality  Negative   \n",
      "\n",
      "     feedback_date  \n",
      "1       2024-05-28  \n",
      "4       2023-11-20  \n",
      "5       2023-03-18  \n",
      "7       2024-03-31  \n",
      "8       2023-07-14  \n",
      "...            ...  \n",
      "4989    2023-06-27  \n",
      "4991    2023-07-15  \n",
      "4992    2024-09-29  \n",
      "4993    2023-11-30  \n",
      "4995    2023-12-25  \n",
      "\n",
      "[1642 rows x 8 columns]\n"
     ]
    }
   ],
   "source": [
    "x = customer[customer['sentiment'] == 'Negative']\n",
    "print('id with incorrect format')\n",
    "print(x)"
   ]
  },
  {
   "cell_type": "code",
   "execution_count": 76,
   "id": "d285e4a8-29cd-49b5-8372-319ee3ea005e",
   "metadata": {},
   "outputs": [
    {
     "name": "stdout",
     "output_type": "stream",
     "text": [
      "id with incorrect format\n",
      "      feedback_id    order_id  customer_id  rating  \\\n",
      "0         2234710  1961864118     30065862       4   \n",
      "2          482108  9185164487     45477575       3   \n",
      "3         4823104  9644738826     88067569       4   \n",
      "9         2257242   374186990     52215833       3   \n",
      "11         258023  3539286337     77559557       3   \n",
      "...           ...         ...          ...     ...   \n",
      "4994      6844012  4927306668     97033691       3   \n",
      "4996      4715968  8340761903     53640286       3   \n",
      "4997      9621021  5936301790     87059497       4   \n",
      "4998      1134095  5710579377     67310893       4   \n",
      "4999      6578433  2494813730     28663279       4   \n",
      "\n",
      "                                          feedback_text feedback_category  \\\n",
      "0                         It was okay, nothing special.          Delivery   \n",
      "2                         It was okay, nothing special.    App Experience   \n",
      "3                      The product met my expectations.    App Experience   \n",
      "9                      The product met my expectations.    App Experience   \n",
      "11    Delivery was fine, but the product could be be...          Delivery   \n",
      "...                                                 ...               ...   \n",
      "4994                 Average experience, could improve.    App Experience   \n",
      "4996                 Average experience, could improve.   Product Quality   \n",
      "4997                 Average experience, could improve.    App Experience   \n",
      "4998                 Average experience, could improve.          Delivery   \n",
      "4999                      It was okay, nothing special.  Customer Service   \n",
      "\n",
      "     sentiment feedback_date  \n",
      "0      Neutral    2024-07-17  \n",
      "2      Neutral    2024-09-23  \n",
      "3      Neutral    2023-11-24  \n",
      "9      Neutral    2023-08-09  \n",
      "11     Neutral    2023-04-25  \n",
      "...        ...           ...  \n",
      "4994   Neutral    2023-06-08  \n",
      "4996   Neutral    2023-11-27  \n",
      "4997   Neutral    2024-06-21  \n",
      "4998   Neutral    2024-06-06  \n",
      "4999   Neutral    2023-08-23  \n",
      "\n",
      "[1738 rows x 8 columns]\n"
     ]
    }
   ],
   "source": [
    "x = customer[customer['sentiment'] == 'Neutral']\n",
    "print('id with incorrect format')\n",
    "print(x)"
   ]
  },
  {
   "cell_type": "code",
   "execution_count": 5,
   "id": "9b06bdd7-4456-4480-81ca-58dafa31a563",
   "metadata": {},
   "outputs": [],
   "source": [
    "import pandas as pd "
   ]
  },
  {
   "cell_type": "code",
   "execution_count": 6,
   "id": "06ba60c0-cb67-4345-9d21-723ac0f24870",
   "metadata": {},
   "outputs": [
    {
     "name": "stdout",
     "output_type": "stream",
     "text": [
      "      feedback_id    order_id  customer_id  rating  \\\n",
      "0         2234710  1961864118     30065862       4   \n",
      "1         5450964  1549769649      9573071       3   \n",
      "2          482108  9185164487     45477575       3   \n",
      "3         4823104  9644738826     88067569       4   \n",
      "4         3537464  5427684290     83298567       3   \n",
      "...           ...         ...          ...     ...   \n",
      "4995      9024060  1669690997     62600289       3   \n",
      "4996      4715968  8340761903     53640286       3   \n",
      "4997      9621021  5936301790     87059497       4   \n",
      "4998      1134095  5710579377     67310893       4   \n",
      "4999      6578433  2494813730     28663279       4   \n",
      "\n",
      "                             feedback_text feedback_category sentiment  \\\n",
      "0            It was okay, nothing special.          Delivery   Neutral   \n",
      "1                 The order was incorrect.    App Experience  Negative   \n",
      "2            It was okay, nothing special.    App Experience   Neutral   \n",
      "3         The product met my expectations.    App Experience   Neutral   \n",
      "4     Product was damaged during delivery.          Delivery  Negative   \n",
      "...                                    ...               ...       ...   \n",
      "4995            Taste was not as expected.   Product Quality  Negative   \n",
      "4996    Average experience, could improve.   Product Quality   Neutral   \n",
      "4997    Average experience, could improve.    App Experience   Neutral   \n",
      "4998    Average experience, could improve.          Delivery   Neutral   \n",
      "4999         It was okay, nothing special.  Customer Service   Neutral   \n",
      "\n",
      "     feedback_date  \n",
      "0       2024-07-17  \n",
      "1       2024-05-28  \n",
      "2       2024-09-23  \n",
      "3       2023-11-24  \n",
      "4       2023-11-20  \n",
      "...            ...  \n",
      "4995    2023-12-25  \n",
      "4996    2023-11-27  \n",
      "4997    2024-06-21  \n",
      "4998    2024-06-06  \n",
      "4999    2023-08-23  \n",
      "\n",
      "[5000 rows x 8 columns]\n"
     ]
    }
   ],
   "source": [
    "customer = pd.read_csv(\"data/blinkit_customer_feedback.csv\")\n",
    "print(customer)"
   ]
  },
  {
   "cell_type": "code",
   "execution_count": 10,
   "id": "e9c3f3e8-d999-415d-8aa8-b5354e2b52fb",
   "metadata": {},
   "outputs": [
    {
     "name": "stdout",
     "output_type": "stream",
     "text": [
      "      feedback_id  order_id  customer_id  rating  feedback_text  \\\n",
      "0           False     False        False   False          False   \n",
      "1           False     False        False   False          False   \n",
      "2           False     False        False   False          False   \n",
      "3           False     False        False   False          False   \n",
      "4           False     False        False   False          False   \n",
      "...           ...       ...          ...     ...            ...   \n",
      "4995        False     False        False   False          False   \n",
      "4996        False     False        False   False          False   \n",
      "4997        False     False        False   False          False   \n",
      "4998        False     False        False   False          False   \n",
      "4999        False     False        False   False          False   \n",
      "\n",
      "      feedback_category  sentiment  feedback_date  \n",
      "0                 False      False          False  \n",
      "1                 False      False          False  \n",
      "2                 False      False          False  \n",
      "3                 False      False          False  \n",
      "4                 False      False          False  \n",
      "...                 ...        ...            ...  \n",
      "4995              False      False          False  \n",
      "4996              False      False          False  \n",
      "4997              False      False          False  \n",
      "4998              False      False          False  \n",
      "4999              False      False          False  \n",
      "\n",
      "[5000 rows x 8 columns]\n"
     ]
    }
   ],
   "source": [
    "print(customer.isnull())"
   ]
  },
  {
   "cell_type": "code",
   "execution_count": 17,
   "id": "980ad8e7-e2f8-487b-9347-27215328a61e",
   "metadata": {},
   "outputs": [
    {
     "name": "stdout",
     "output_type": "stream",
     "text": [
      "      feedback_id    order_id  customer_id  rating  \\\n",
      "2454      5317004     3101265     89617089       1   \n",
      "4931      3850044  4393113152     79695653       1   \n",
      "4978      4161917  7446009755     71767248       1   \n",
      "1790        70270  5636241570     94281220       1   \n",
      "4397      8867293  9836424713     53815931       1   \n",
      "...           ...         ...          ...     ...   \n",
      "2511      2192142  9193945481     28277304       5   \n",
      "2514      5434712  7229998672     41194825       5   \n",
      "2477      8921243  3019634875     58170168       5   \n",
      "4976      6973023  2811341619     30188374       5   \n",
      "45        8956798    32613017     82594354       5   \n",
      "\n",
      "                             feedback_text feedback_category sentiment  \\\n",
      "2454     Customer service was not helpful.  Customer Service  Negative   \n",
      "4931     Items were missing from my order.    App Experience  Negative   \n",
      "4978  Delivery was late and I was unhappy.    App Experience  Negative   \n",
      "1790           Not worth the price I paid.   Product Quality  Negative   \n",
      "4397  Delivery was late and I was unhappy.  Customer Service  Negative   \n",
      "...                                    ...               ...       ...   \n",
      "2511    Excellent quality, will buy again!          Delivery  Positive   \n",
      "2514       Great prices and fast delivery!          Delivery  Positive   \n",
      "2477    Excellent quality, will buy again!   Product Quality  Positive   \n",
      "4976    Customer service was very helpful.  Customer Service  Positive   \n",
      "45      Excellent quality, will buy again!          Delivery  Positive   \n",
      "\n",
      "     feedback_date  \n",
      "2454    2024-05-23  \n",
      "4931    2024-06-02  \n",
      "4978    2023-06-15  \n",
      "1790    2024-06-21  \n",
      "4397    2023-11-19  \n",
      "...            ...  \n",
      "2511    2024-08-22  \n",
      "2514    2023-09-10  \n",
      "2477    2024-10-29  \n",
      "4976    2024-05-24  \n",
      "45      2023-03-17  \n",
      "\n",
      "[5000 rows x 8 columns]\n"
     ]
    }
   ],
   "source": [
    "customer.sort_values(by = \"rating\",ascending = True,inplace = True)\n",
    "print(customer)"
   ]
  },
  {
   "cell_type": "code",
   "execution_count": null,
   "id": "69e3a19d-0601-4d03-afac-1900295dde71",
   "metadata": {},
   "outputs": [],
   "source": []
  },
  {
   "cell_type": "code",
   "execution_count": 18,
   "id": "fd7327e3-6746-42a4-8c0a-f070c89714d3",
   "metadata": {},
   "outputs": [
    {
     "name": "stdout",
     "output_type": "stream",
     "text": [
      "      feedback_id    order_id  customer_id  rating  \\\n",
      "1796      3853096   587498345     69863493       1   \n",
      "1797      9834259  5136205193     82804543       1   \n",
      "1802      7811951  4472082279     41181125       1   \n",
      "1807      3130596   812386333     72605638       1   \n",
      "2570      6198175  9877212995     30065862       1   \n",
      "...           ...         ...          ...     ...   \n",
      "45        8956798    32613017     82594354       5   \n",
      "2398      7612300  8029845822     90621147       5   \n",
      "2423      9617089  3644704128     39717448       5   \n",
      "2440      5256809  1113665104     83034412       5   \n",
      "2431      4078939  3321951407     40305293       5   \n",
      "\n",
      "                             feedback_text feedback_category sentiment  \\\n",
      "1796           Not worth the price I paid.          Delivery  Negative   \n",
      "1797  Product was damaged during delivery.  Customer Service  Negative   \n",
      "1802   Very disappointed with the quality.  Customer Service  Negative   \n",
      "1807           Not worth the price I paid.  Customer Service  Negative   \n",
      "2570     Customer service was not helpful.          Delivery  Negative   \n",
      "...                                    ...               ...       ...   \n",
      "45      Excellent quality, will buy again!          Delivery  Positive   \n",
      "2398      Items were in perfect condition.   Product Quality  Positive   \n",
      "2423                   Highly recommended!    App Experience  Positive   \n",
      "2440                   Highly recommended!          Delivery  Positive   \n",
      "2431   Overall good experience, thank you!  Customer Service  Positive   \n",
      "\n",
      "     feedback_date  \n",
      "1796    2024-06-28  \n",
      "1797    2023-08-22  \n",
      "1802    2023-10-15  \n",
      "1807    2024-09-18  \n",
      "2570    2024-05-04  \n",
      "...            ...  \n",
      "45      2023-03-17  \n",
      "2398    2023-07-06  \n",
      "2423    2024-06-01  \n",
      "2440    2024-06-11  \n",
      "2431    2023-09-13  \n",
      "\n",
      "[5000 rows x 8 columns]\n"
     ]
    }
   ],
   "source": [
    "customer.sort_values(by = \"rating\",ascending = True,inplace = True)\n",
    "print(customer)"
   ]
  },
  {
   "cell_type": "code",
   "execution_count": 24,
   "id": "068af503-ef88-4784-8483-5ce4f89f6919",
   "metadata": {},
   "outputs": [
    {
     "name": "stdout",
     "output_type": "stream",
     "text": [
      "      feedback_id    order_id  customer_id  rating  \\\n",
      "4486      5052091  1887687323     85518832       1   \n",
      "1928      3778250  6304586678     38496400       1   \n",
      "1076      3773206  3171917027     55936462       1   \n",
      "1721      3663130  8290493339     69340015       1   \n",
      "3180      3644762   475294138     31084686       1   \n",
      "...           ...         ...          ...     ...   \n",
      "3760      8443908  7827370415     97770901       5   \n",
      "3236      9807295  5023958886     12832151       5   \n",
      "2157      4343192  4404350734     57892837       5   \n",
      "137        929702  5770951298     75510747       5   \n",
      "318       1263890  2560588609      6291143       5   \n",
      "\n",
      "                            feedback_text feedback_category sentiment  \\\n",
      "4486    Customer service was not helpful.    App Experience  Negative   \n",
      "1928              The packaging was poor.          Delivery  Negative   \n",
      "1076              The packaging was poor.    App Experience  Negative   \n",
      "1721              I had a bad experience.    App Experience  Negative   \n",
      "3180           Taste was not as expected.    App Experience  Negative   \n",
      "...                                   ...               ...       ...   \n",
      "3760  Overall good experience, thank you!  Customer Service  Positive   \n",
      "3236   Excellent quality, will buy again!  Customer Service  Positive   \n",
      "2157         Will definitely order again.  Customer Service  Positive   \n",
      "137      Items were in perfect condition.          Delivery  Positive   \n",
      "318         Very fresh and well-packaged.    App Experience  Positive   \n",
      "\n",
      "     feedback_date  \n",
      "4486    2024-02-08  \n",
      "1928    2023-09-25  \n",
      "1076    2024-03-31  \n",
      "1721    2024-01-29  \n",
      "3180    2023-12-29  \n",
      "...            ...  \n",
      "3760    2023-06-23  \n",
      "3236    2024-09-24  \n",
      "2157    2024-01-16  \n",
      "137     2023-10-02  \n",
      "318     2024-06-21  \n",
      "\n",
      "[5000 rows x 8 columns]\n"
     ]
    }
   ],
   "source": [
    "\n",
    "customer.sort_values(by = \"rating\",ascending = True,inplace = True)\n",
    "print(customer)"
   ]
  },
  {
   "cell_type": "code",
   "execution_count": 23,
   "id": "fda9d3c9-9049-4071-859f-18f0ad5c13f4",
   "metadata": {},
   "outputs": [
    {
     "name": "stdout",
     "output_type": "stream",
     "text": [
      "      feedback_id    order_id  customer_id  rating  \\\n",
      "1451          947  8875605037     93867669       1   \n",
      "2834      5010171  7471013149     46185579       1   \n",
      "3387      5010654  2419292139     79916464       2   \n",
      "4706      5021758  9912965340     95309983       1   \n",
      "1803      5026119  4104732514     35156679       2   \n",
      "...           ...         ...          ...     ...   \n",
      "1685      7138726  3480516243     23567263       4   \n",
      "3512      7134266  4879497185     51014003       4   \n",
      "137        929702  5770951298     75510747       5   \n",
      "1501       918874   882083749     51833636       4   \n",
      "318       1263890  2560588609      6291143       5   \n",
      "\n",
      "                             feedback_text feedback_category sentiment  \\\n",
      "1451     Customer service was not helpful.    App Experience  Negative   \n",
      "2834  Delivery was late and I was unhappy.    App Experience  Negative   \n",
      "3387     Customer service was not helpful.    App Experience  Negative   \n",
      "4706  Delivery was late and I was unhappy.          Delivery  Negative   \n",
      "1803   Very disappointed with the quality.          Delivery  Negative   \n",
      "...                                    ...               ...       ...   \n",
      "1685                   Highly recommended!   Product Quality  Positive   \n",
      "3512    Customer service was very helpful.    App Experience  Positive   \n",
      "137       Items were in perfect condition.          Delivery  Positive   \n",
      "1501          Very happy with the service!  Customer Service  Positive   \n",
      "318          Very fresh and well-packaged.    App Experience  Positive   \n",
      "\n",
      "     feedback_date  \n",
      "1451    2023-09-27  \n",
      "2834    2024-10-13  \n",
      "3387    2024-05-31  \n",
      "4706    2023-08-20  \n",
      "1803    2024-06-13  \n",
      "...            ...  \n",
      "1685    2024-08-06  \n",
      "3512    2023-10-17  \n",
      "137     2023-10-02  \n",
      "1501    2023-06-18  \n",
      "318     2024-06-21  \n",
      "\n",
      "[5000 rows x 8 columns]\n"
     ]
    }
   ],
   "source": [
    "customer.sort_values(by = \"sentiment\",ascending = True,inplace = True)\n",
    "print(customer)"
   ]
  },
  {
   "cell_type": "code",
   "execution_count": 25,
   "id": "beab3bb0-5ff0-4c06-9d51-07d390ec31e4",
   "metadata": {},
   "outputs": [
    {
     "name": "stdout",
     "output_type": "stream",
     "text": [
      "      feedback_id    order_id  customer_id  rating  \\\n",
      "2972      7669412  7997347191        31813       3   \n",
      "3548       950262  5698803942        31813       1   \n",
      "3131      6210544  4283802879        61020       4   \n",
      "3145      6378461  3367452972        61020       3   \n",
      "1244      2668183  4961370923        61020       4   \n",
      "...           ...         ...          ...     ...   \n",
      "2177      1305586   332975964     99824171       5   \n",
      "3520       819181  8371900149     99893898       4   \n",
      "4405      7789018  1860491452     99893898       5   \n",
      "1946      6435438  4054828941     99893898       4   \n",
      "1235      2865376  3963207709     99893898       3   \n",
      "\n",
      "                                          feedback_text feedback_category  \\\n",
      "2972               Product was damaged during delivery.    App Experience   \n",
      "3548                  Customer service was not helpful.          Delivery   \n",
      "3131                       Will definitely order again.          Delivery   \n",
      "3145                      It was okay, nothing special.    App Experience   \n",
      "1244                 Average experience, could improve.          Delivery   \n",
      "...                                                 ...               ...   \n",
      "2177                      Very fresh and well-packaged.          Delivery   \n",
      "3520                       Will definitely order again.    App Experience   \n",
      "4405                    Great prices and fast delivery!    App Experience   \n",
      "1946                    Great prices and fast delivery!          Delivery   \n",
      "1235  Nothing to complain about, but nothing excepti...          Delivery   \n",
      "\n",
      "     sentiment feedback_date  \n",
      "2972  Negative    2024-07-11  \n",
      "3548  Negative    2024-10-10  \n",
      "3131  Positive    2023-05-10  \n",
      "3145   Neutral    2024-08-31  \n",
      "1244   Neutral    2024-02-04  \n",
      "...        ...           ...  \n",
      "2177  Positive    2023-09-21  \n",
      "3520  Positive    2024-08-31  \n",
      "4405  Positive    2024-04-18  \n",
      "1946  Positive    2023-12-15  \n",
      "1235   Neutral    2024-01-04  \n",
      "\n",
      "[5000 rows x 8 columns]\n"
     ]
    }
   ],
   "source": [
    "customer.sort_values(by = \"customer_id\",ascending = True,inplace = True)\n",
    "print(customer)"
   ]
  },
  {
   "cell_type": "code",
   "execution_count": 28,
   "id": "1b458dd4-42b9-4e55-8546-81d0ac630723",
   "metadata": {},
   "outputs": [
    {
     "name": "stdout",
     "output_type": "stream",
     "text": [
      "      feedback_id    order_id  customer_id  rating  \\\n",
      "1451          947  8875605037     93867669       1   \n",
      "324          5028  8830321199     93341057       5   \n",
      "2539         5348   935645101     63368244       3   \n",
      "2181         6201  9271384187     67749649       1   \n",
      "4612        11042  1320638425     36833857       4   \n",
      "...           ...         ...          ...     ...   \n",
      "3889      9992406  7485459856     89784343       4   \n",
      "1926      9992700  8310385249     97315135       1   \n",
      "4726      9993994  1225289500     70529459       1   \n",
      "4197      9997264  5953426781     79135318       4   \n",
      "3083      9999293  3770123374     29415527       4   \n",
      "\n",
      "                                          feedback_text feedback_category  \\\n",
      "1451                  Customer service was not helpful.    App Experience   \n",
      "324                       Very fresh and well-packaged.   Product Quality   \n",
      "2539                        Not worth the price I paid.   Product Quality   \n",
      "2181                            The packaging was poor.          Delivery   \n",
      "4612                        Good selection of products.  Customer Service   \n",
      "...                                                 ...               ...   \n",
      "3889  Nothing to complain about, but nothing excepti...          Delivery   \n",
      "1926               Delivery was late and I was unhappy.    App Experience   \n",
      "4726                            The packaging was poor.    App Experience   \n",
      "4197  Delivery was fine, but the product could be be...          Delivery   \n",
      "3083  Delivery was fine, but the product could be be...   Product Quality   \n",
      "\n",
      "     sentiment feedback_date  \n",
      "1451  Negative    2023-09-27  \n",
      "324   Positive    2024-08-10  \n",
      "2539  Negative    2023-09-27  \n",
      "2181  Negative    2023-11-28  \n",
      "4612  Positive    2023-04-26  \n",
      "...        ...           ...  \n",
      "3889   Neutral    2023-09-15  \n",
      "1926  Negative    2023-07-29  \n",
      "4726  Negative    2024-03-31  \n",
      "4197   Neutral    2023-12-10  \n",
      "3083   Neutral    2023-11-19  \n",
      "\n",
      "[5000 rows x 8 columns]\n"
     ]
    }
   ],
   "source": [
    "customer.sort_values(by =[\"feedback_id\",\"order_id\",\"customer_id\"],ascending = True,inplace = True)\n",
    "print(customer)"
   ]
  },
  {
   "cell_type": "code",
   "execution_count": 29,
   "id": "77423766-3d3e-4be7-a500-cde22d3fd8f1",
   "metadata": {},
   "outputs": [
    {
     "name": "stdout",
     "output_type": "stream",
     "text": [
      "947\n"
     ]
    }
   ],
   "source": [
    "min_value = customer[\"feedback_id\"].min()\n",
    "print(min_value)"
   ]
  },
  {
   "cell_type": "code",
   "execution_count": 30,
   "id": "cdea7cbf-5fad-4611-8730-2e03beddb552",
   "metadata": {},
   "outputs": [
    {
     "name": "stdout",
     "output_type": "stream",
     "text": [
      "9999293\n"
     ]
    }
   ],
   "source": [
    "max_value = customer[\"feedback_id\"].max()\n",
    "print(max_value)"
   ]
  },
  {
   "cell_type": "code",
   "execution_count": 31,
   "id": "352e76ba-bf0f-432b-a2d5-e1b49bfbae1c",
   "metadata": {},
   "outputs": [
    {
     "name": "stdout",
     "output_type": "stream",
     "text": [
      "5013616.037\n"
     ]
    }
   ],
   "source": [
    "mean_value = customer[\"feedback_id\"].mean()\n",
    "print(mean_value)"
   ]
  },
  {
   "cell_type": "code",
   "execution_count": null,
   "id": "41e323d5-efe0-4c65-987a-182ea57569c2",
   "metadata": {},
   "outputs": [],
   "source": []
  }
 ],
 "metadata": {
  "kernelspec": {
   "display_name": "Python 3 (ipykernel)",
   "language": "python",
   "name": "python3"
  },
  "language_info": {
   "codemirror_mode": {
    "name": "ipython",
    "version": 3
   },
   "file_extension": ".py",
   "mimetype": "text/x-python",
   "name": "python",
   "nbconvert_exporter": "python",
   "pygments_lexer": "ipython3",
   "version": "3.13.3"
  }
 },
 "nbformat": 4,
 "nbformat_minor": 5
}
