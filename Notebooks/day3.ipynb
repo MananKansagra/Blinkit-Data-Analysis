{
 "cells": [
  {
   "cell_type": "code",
   "execution_count": 1,
   "id": "a3f56c18-01da-446d-9766-2260401fd4fe",
   "metadata": {},
   "outputs": [],
   "source": [
    "def loan_emi(amount):\n",
    "    emi = amount /12\n",
    "    print('the EMI is ${}'.format(emi))"
   ]
  },
  {
   "cell_type": "code",
   "execution_count": 2,
   "id": "3b76fef1-f6fa-4db2-8847-73757e71bf53",
   "metadata": {},
   "outputs": [
    {
     "name": "stdout",
     "output_type": "stream",
     "text": [
      "the EMI is $105000.0\n"
     ]
    }
   ],
   "source": [
    "loan_emi(1260000)"
   ]
  },
  {
   "cell_type": "code",
   "execution_count": 3,
   "id": "f8277aaa-3e9e-47fd-b64b-ea79eaf66113",
   "metadata": {},
   "outputs": [],
   "source": [
    "def loan_emi(amount,duration):\n",
    "    emi = amount / duration\n",
    "    print('the EMI is ${}'.format(emi))"
   ]
  },
  {
   "cell_type": "code",
   "execution_count": 4,
   "id": "eec37b9a-bdc2-478a-8c5e-8b0e9a88fad9",
   "metadata": {},
   "outputs": [
    {
     "name": "stdout",
     "output_type": "stream",
     "text": [
      "the EMI is $10500.0\n"
     ]
    }
   ],
   "source": [
    "loan_emi(1.26e6,10*12)"
   ]
  },
  {
   "cell_type": "code",
   "execution_count": 5,
   "id": "45811fc4-21da-42a5-a653-1bf8ecba850e",
   "metadata": {},
   "outputs": [
    {
     "name": "stdout",
     "output_type": "stream",
     "text": [
      "the EMI is $13125.0\n"
     ]
    }
   ],
   "source": [
    "loan_emi(1260000,8*12)"
   ]
  },
  {
   "cell_type": "code",
   "execution_count": 6,
   "id": "c60d1ca4-497c-48d8-b524-168e0f72d7a1",
   "metadata": {},
   "outputs": [
    {
     "name": "stdout",
     "output_type": "stream",
     "text": [
      "the EMI is $10500.0\n"
     ]
    }
   ],
   "source": [
    "loan_emi(1260000,10*12)"
   ]
  },
  {
   "cell_type": "code",
   "execution_count": 7,
   "id": "10335193-fbfd-4d8a-a618-264abf35e68e",
   "metadata": {},
   "outputs": [],
   "source": [
    "def loan_emi(amount,duration):\n",
    "    emi = amount/duration\n",
    "    return emi"
   ]
  },
  {
   "cell_type": "code",
   "execution_count": 11,
   "id": "45f1df3f-e0e2-481f-a000-86d95ad8cd44",
   "metadata": {},
   "outputs": [],
   "source": [
    "emi1 = loan_emi(12600000,8*12)"
   ]
  },
  {
   "cell_type": "code",
   "execution_count": 12,
   "id": "b3edf161-516b-455e-a8b3-2a5e4bb37803",
   "metadata": {},
   "outputs": [],
   "source": [
    "emi2 = loan_emi(1260000,10*12)"
   ]
  },
  {
   "cell_type": "code",
   "execution_count": 14,
   "id": "afeb3422-cffc-441a-a91e-fa670c71759d",
   "metadata": {},
   "outputs": [
    {
     "data": {
      "text/plain": [
       "131250.0"
      ]
     },
     "execution_count": 14,
     "metadata": {},
     "output_type": "execute_result"
    }
   ],
   "source": [
    "emi1"
   ]
  },
  {
   "cell_type": "code",
   "execution_count": 15,
   "id": "d1be2112-cd57-4345-a460-ce0b4b32e023",
   "metadata": {},
   "outputs": [
    {
     "data": {
      "text/plain": [
       "10500.0"
      ]
     },
     "execution_count": 15,
     "metadata": {},
     "output_type": "execute_result"
    }
   ],
   "source": [
    "emi2"
   ]
  },
  {
   "cell_type": "markdown",
   "id": "64550cd0-d867-4961-8eb5-7ee98046b1a4",
   "metadata": {},
   "source": [
    "#optional argument"
   ]
  },
  {
   "cell_type": "code",
   "execution_count": 21,
   "id": "2d1b2ec7-dd1d-4e6a-bfaf-436085aa7def",
   "metadata": {},
   "outputs": [],
   "source": [
    "def loan_emi(amount,duration,down_payment=0):\n",
    "    loan_amount= amount-down_payment\n",
    "    emi=loan_amount/duration\n",
    "    return emi"
   ]
  },
  {
   "cell_type": "code",
   "execution_count": 22,
   "id": "1951847d-557d-4110-b661-7733db0c8e15",
   "metadata": {},
   "outputs": [],
   "source": [
    "emi1=loan_emi(1260000,8*12,3e5)"
   ]
  },
  {
   "cell_type": "code",
   "execution_count": 23,
   "id": "5b89aa32-8920-43d4-b840-e0967e619bde",
   "metadata": {},
   "outputs": [
    {
     "data": {
      "text/plain": [
       "10000.0"
      ]
     },
     "execution_count": 23,
     "metadata": {},
     "output_type": "execute_result"
    }
   ],
   "source": [
    "emi1"
   ]
  },
  {
   "cell_type": "code",
   "execution_count": 24,
   "id": "2689f85b-fcc0-408f-a4a7-385c66d51101",
   "metadata": {},
   "outputs": [],
   "source": [
    "emi2= loan_emi(1260000,10*12)"
   ]
  },
  {
   "cell_type": "code",
   "execution_count": 25,
   "id": "ff5c3819-9c42-4ee8-8306-e74ca95d8fc4",
   "metadata": {},
   "outputs": [
    {
     "data": {
      "text/plain": [
       "10500.0"
      ]
     },
     "execution_count": 25,
     "metadata": {},
     "output_type": "execute_result"
    }
   ],
   "source": [
    "emi2"
   ]
  },
  {
   "cell_type": "code",
   "execution_count": 26,
   "id": "d39c3a8b-c707-41b6-add6-7fd687c37b41",
   "metadata": {},
   "outputs": [],
   "source": [
    "def loan_emi(amount,duration,rate,down_payment=0):\n",
    "    loan_amount = amount -down_payment\n",
    "    emi = loan_amount * rate * ((1+rate)**duration) / (((1+rate)**duration)-1)\n",
    "    return emi"
   ]
  },
  {
   "cell_type": "code",
   "execution_count": 27,
   "id": "95246896-b8db-42de-92e5-514d15a2e42e",
   "metadata": {},
   "outputs": [
    {
     "data": {
      "text/plain": [
       "7999.999999999999"
      ]
     },
     "execution_count": 27,
     "metadata": {},
     "output_type": "execute_result"
    }
   ],
   "source": [
    "loan_emi(1260000,8*12,0.1/12,3e5)"
   ]
  },
  {
   "cell_type": "code",
   "execution_count": 28,
   "id": "494acf5e-0249-4c67-b5f8-b09bb27b5def",
   "metadata": {},
   "outputs": [
    {
     "data": {
      "text/plain": [
       "84000.0"
      ]
     },
     "execution_count": 28,
     "metadata": {},
     "output_type": "execute_result"
    }
   ],
   "source": [
    "loan_emi(1260000,10*12,0.8/12)"
   ]
  },
  {
   "cell_type": "markdown",
   "id": "b4ef06f5-ac73-40fb-ba4e-83f1fd05cc2a",
   "metadata": {},
   "source": [
    "#named argument"
   ]
  },
  {
   "cell_type": "code",
   "execution_count": 29,
   "id": "d06d5b37-3026-445e-b813-16b95e4ef4fe",
   "metadata": {},
   "outputs": [],
   "source": [
    "emi1= loan_emi(\n",
    "    amount=1260000,\n",
    "    duration=8*12,\n",
    "    rate=0.1/12,\n",
    "    down_payment=3e5\n",
    ")"
   ]
  },
  {
   "cell_type": "code",
   "execution_count": 30,
   "id": "49c899fb-d13b-4690-a050-619d5d258e1d",
   "metadata": {},
   "outputs": [
    {
     "data": {
      "text/plain": [
       "7999.999999999999"
      ]
     },
     "execution_count": 30,
     "metadata": {},
     "output_type": "execute_result"
    }
   ],
   "source": [
    "emi1"
   ]
  },
  {
   "cell_type": "code",
   "execution_count": 31,
   "id": "ad822a1f-dfbd-4f54-8770-5e8aef63f483",
   "metadata": {},
   "outputs": [],
   "source": [
    "emi2 = loan_emi(amount=1260000,duration=10*12,rate=0.08/12)"
   ]
  },
  {
   "cell_type": "code",
   "execution_count": 32,
   "id": "51b7c786-bee5-4555-b41a-070b5878f50a",
   "metadata": {},
   "outputs": [
    {
     "data": {
      "text/plain": [
       "8400.0"
      ]
     },
     "execution_count": 32,
     "metadata": {},
     "output_type": "execute_result"
    }
   ],
   "source": [
    "emi2"
   ]
  },
  {
   "cell_type": "code",
   "execution_count": 37,
   "id": "d5d3e468-da96-447a-8093-12b4e3b8e28b",
   "metadata": {},
   "outputs": [],
   "source": [
    "import math "
   ]
  },
  {
   "cell_type": "code",
   "execution_count": 38,
   "id": "bffe65b6-2032-420d-8698-c75dae33dfaa",
   "metadata": {},
   "outputs": [
    {
     "name": "stdout",
     "output_type": "stream",
     "text": [
      "Help on built-in function ceil in module math:\n",
      "\n",
      "ceil(x, /)\n",
      "    Return the ceiling of x as an Integral.\n",
      "\n",
      "    This is the smallest integer >= x.\n",
      "\n"
     ]
    }
   ],
   "source": [
    "help(math.ceil)"
   ]
  },
  {
   "cell_type": "code",
   "execution_count": 39,
   "id": "031f1648-98bb-49dc-9e18-6f4c720a2b29",
   "metadata": {},
   "outputs": [
    {
     "data": {
      "text/plain": [
       "2"
      ]
     },
     "execution_count": 39,
     "metadata": {},
     "output_type": "execute_result"
    }
   ],
   "source": [
    "math.ceil(1.2)"
   ]
  },
  {
   "cell_type": "code",
   "execution_count": 45,
   "id": "2fb82ffb-eba6-4af6-8e2a-cdda081d60dc",
   "metadata": {},
   "outputs": [],
   "source": [
    "def loan_emi(amount,duration,rate,down_payment=0):\n",
    "    loan_amount = amount - down_payment\n",
    "    emi= loan_amount* rate *((1+rate)**duration) / (((1+rate)**duration) -1)\n",
    "    emi=math.ceil(emi)\n",
    "    return emi"
   ]
  },
  {
   "cell_type": "code",
   "execution_count": 46,
   "id": "5b00d6d4-2e9e-47bc-ac86-e38f9ff2eccc",
   "metadata": {},
   "outputs": [],
   "source": [
    "emi1 = loan_emi(\n",
    "    amount = 1260000,\n",
    "    duration = 8*12,\n",
    "    rate = 0.1/12,\n",
    "    down_payment = 2e5\n",
    ")"
   ]
  },
  {
   "cell_type": "code",
   "execution_count": 47,
   "id": "2ad3a923-fc9e-454a-8ea4-f218a3b3c801",
   "metadata": {},
   "outputs": [
    {
     "data": {
      "text/plain": [
       "16085"
      ]
     },
     "execution_count": 47,
     "metadata": {},
     "output_type": "execute_result"
    }
   ],
   "source": [
    "emi1"
   ]
  },
  {
   "cell_type": "code",
   "execution_count": 48,
   "id": "c90647f2-99d6-430c-8a13-fc2d60ffe78c",
   "metadata": {},
   "outputs": [],
   "source": [
    "emi2 = loan_emi(amount=1260000,duration=10*12,rate=0.08/12)"
   ]
  },
  {
   "cell_type": "code",
   "execution_count": 49,
   "id": "9c8daba8-f836-4fae-a071-d94dfa32e394",
   "metadata": {},
   "outputs": [
    {
     "data": {
      "text/plain": [
       "15288"
      ]
     },
     "execution_count": 49,
     "metadata": {},
     "output_type": "execute_result"
    }
   ],
   "source": [
    "emi2"
   ]
  },
  {
   "cell_type": "code",
   "execution_count": 50,
   "id": "91c16ad2-0f3a-4d43-860b-d1ec2feca7bb",
   "metadata": {},
   "outputs": [
    {
     "name": "stdout",
     "output_type": "stream",
     "text": [
      "option 2 has the lower EMI :$15288\n"
     ]
    }
   ],
   "source": [
    "if emi1 < emi2:\n",
    "    print(\"option 1 has the lower EMI:${}\".format(emi1))\n",
    "else:\n",
    "    print(\"option 2 has the lower EMI :${}\".format(emi2))"
   ]
  },
  {
   "cell_type": "markdown",
   "id": "a83f5631-773e-4723-b096-d61fbfc923f3",
   "metadata": {},
   "source": [
    "#reusing and amking function"
   ]
  },
  {
   "cell_type": "code",
   "execution_count": 53,
   "id": "788cf96e-1794-4afd-93d0-a725a9fe3568",
   "metadata": {},
   "outputs": [
    {
     "data": {
      "text/plain": [
       "10230"
      ]
     },
     "execution_count": 53,
     "metadata": {},
     "output_type": "execute_result"
    }
   ],
   "source": [
    "cost_of_house = 800000\n",
    "home_loan_duration = 6*12\n",
    "home_loan_rate = 0.07/12\n",
    "home_down_payment = .25 * 800000\n",
    "emi_house = loan_emi(amount=cost_of_house,\n",
    "                    duration= home_loan_duration,\n",
    "                    rate= home_loan_rate,\n",
    "                    down_payment=home_down_payment)\n",
    "emi_house"
   ]
  },
  {
   "cell_type": "code",
   "execution_count": 54,
   "id": "17510fcb-b58f-4410-8be1-e5537ecb1042",
   "metadata": {},
   "outputs": [
    {
     "data": {
      "text/plain": [
       "5331"
      ]
     },
     "execution_count": 54,
     "metadata": {},
     "output_type": "execute_result"
    }
   ],
   "source": [
    "cost_of_car= 60000\n",
    "car_loan_duration=1*12\n",
    "car_loan_rate=.12/12\n",
    "emi_car = loan_emi(amount=cost_of_car,\n",
    "                  duration=car_loan_duration,\n",
    "                  rate=car_loan_rate)\n",
    "emi_car"
   ]
  },
  {
   "cell_type": "markdown",
   "id": "21b2db81-a58c-4675-9f3b-c8665207a136",
   "metadata": {},
   "source": [
    "#exception and try-except"
   ]
  },
  {
   "cell_type": "code",
   "execution_count": 55,
   "id": "62967ef4-248f-4b90-9a21-de51aa215a47",
   "metadata": {},
   "outputs": [
    {
     "data": {
      "text/plain": [
       "5758"
      ]
     },
     "execution_count": 55,
     "metadata": {},
     "output_type": "execute_result"
    }
   ],
   "source": [
    "emi_with_interest = loan_emi(amount = 100000,duration = 10*12,rate = 0.69/12)\n",
    "emi_with_interest"
   ]
  },
  {
   "cell_type": "code",
   "execution_count": 59,
   "id": "003e3ca5-0a79-45f4-a3f0-25724f5ba693",
   "metadata": {},
   "outputs": [
    {
     "ename": "ZeroDivisionError",
     "evalue": "float division by zero",
     "output_type": "error",
     "traceback": [
      "\u001b[31m---------------------------------------------------------------------------\u001b[39m",
      "\u001b[31mZeroDivisionError\u001b[39m                         Traceback (most recent call last)",
      "\u001b[36mCell\u001b[39m\u001b[36m \u001b[39m\u001b[32mIn[59]\u001b[39m\u001b[32m, line 1\u001b[39m\n\u001b[32m----> \u001b[39m\u001b[32m1\u001b[39m emi_without_interest = \u001b[43mloan_emi\u001b[49m\u001b[43m(\u001b[49m\u001b[43mamount\u001b[49m\u001b[43m \u001b[49m\u001b[43m=\u001b[49m\u001b[43m \u001b[49m\u001b[32;43m100000\u001b[39;49m\u001b[43m,\u001b[49m\u001b[43mduration\u001b[49m\u001b[43m \u001b[49m\u001b[43m=\u001b[49m\u001b[43m \u001b[49m\u001b[32;43m10\u001b[39;49m\u001b[43m*\u001b[49m\u001b[32;43m12\u001b[39;49m\u001b[43m,\u001b[49m\u001b[43mrate\u001b[49m\u001b[43m \u001b[49m\u001b[43m=\u001b[49m\u001b[43m \u001b[49m\u001b[32;43m0.\u001b[39;49m\u001b[43m/\u001b[49m\u001b[32;43m12\u001b[39;49m\u001b[43m)\u001b[49m\n\u001b[32m      2\u001b[39m emi_without_interest\n",
      "\u001b[36mCell\u001b[39m\u001b[36m \u001b[39m\u001b[32mIn[45]\u001b[39m\u001b[32m, line 3\u001b[39m, in \u001b[36mloan_emi\u001b[39m\u001b[34m(amount, duration, rate, down_payment)\u001b[39m\n\u001b[32m      1\u001b[39m \u001b[38;5;28;01mdef\u001b[39;00m\u001b[38;5;250m \u001b[39m\u001b[34mloan_emi\u001b[39m(amount,duration,rate,down_payment=\u001b[32m0\u001b[39m):\n\u001b[32m      2\u001b[39m     loan_amount = amount - down_payment\n\u001b[32m----> \u001b[39m\u001b[32m3\u001b[39m     emi= \u001b[43mloan_amount\u001b[49m\u001b[43m*\u001b[49m\u001b[43m \u001b[49m\u001b[43mrate\u001b[49m\u001b[43m \u001b[49m\u001b[43m*\u001b[49m\u001b[43m(\u001b[49m\u001b[43m(\u001b[49m\u001b[32;43m1\u001b[39;49m\u001b[43m+\u001b[49m\u001b[43mrate\u001b[49m\u001b[43m)\u001b[49m\u001b[43m*\u001b[49m\u001b[43m*\u001b[49m\u001b[43mduration\u001b[49m\u001b[43m)\u001b[49m\u001b[43m \u001b[49m\u001b[43m/\u001b[49m\u001b[43m \u001b[49m\u001b[43m(\u001b[49m\u001b[43m(\u001b[49m\u001b[43m(\u001b[49m\u001b[32;43m1\u001b[39;49m\u001b[43m+\u001b[49m\u001b[43mrate\u001b[49m\u001b[43m)\u001b[49m\u001b[43m*\u001b[49m\u001b[43m*\u001b[49m\u001b[43mduration\u001b[49m\u001b[43m)\u001b[49m\u001b[43m \u001b[49m\u001b[43m-\u001b[49m\u001b[32;43m1\u001b[39;49m\u001b[43m)\u001b[49m\n\u001b[32m      4\u001b[39m     emi=math.ceil(emi)\n\u001b[32m      5\u001b[39m     \u001b[38;5;28;01mreturn\u001b[39;00m emi\n",
      "\u001b[31mZeroDivisionError\u001b[39m: float division by zero"
     ]
    }
   ],
   "source": [
    "emi_without_interest = loan_emi(amount = 100000,duration = 10*12,rate = 0./12)\n",
    "emi_without_interest"
   ]
  },
  {
   "cell_type": "code",
   "execution_count": 62,
   "id": "4487459f-093b-43ee-84b9-4d3b48c0ad82",
   "metadata": {},
   "outputs": [
    {
     "name": "stdout",
     "output_type": "stream",
     "text": [
      "now computing the result...\n",
      "computing was completed successfully\n",
      "2.5\n"
     ]
    }
   ],
   "source": [
    "try:\n",
    "    print(\"now computing the result...\")\n",
    "    result = 5 /2\n",
    "    print(\"computing was completed successfully\")\n",
    "except ZeroDivisionError:\n",
    "    print(\"failed to compute result because you were trying to divide by zero\")\n",
    "    result = None\n",
    "print(result)"
   ]
  },
  {
   "cell_type": "code",
   "execution_count": null,
   "id": "88976e54-7a27-4b94-b5ee-74c79b11b3b3",
   "metadata": {},
   "outputs": [],
   "source": []
  }
 ],
 "metadata": {
  "kernelspec": {
   "display_name": "Python 3 (ipykernel)",
   "language": "python",
   "name": "python3"
  },
  "language_info": {
   "codemirror_mode": {
    "name": "ipython",
    "version": 3
   },
   "file_extension": ".py",
   "mimetype": "text/x-python",
   "name": "python",
   "nbconvert_exporter": "python",
   "pygments_lexer": "ipython3",
   "version": "3.13.3"
  }
 },
 "nbformat": 4,
 "nbformat_minor": 5
}
