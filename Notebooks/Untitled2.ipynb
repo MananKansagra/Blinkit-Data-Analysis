{
 "cells": [
  {
   "cell_type": "code",
   "execution_count": 4,
   "id": "fcf86e6f-2ab1-4071-a829-3ef561b28e82",
   "metadata": {},
   "outputs": [
    {
     "name": "stdout",
     "output_type": "stream",
     "text": [
      "here is a fruit: apple\n",
      "here is a fruit: banana\n",
      "here is a fruit: cherry\n"
     ]
    }
   ],
   "source": [
    "for fruit in ['apple','banana','cherry']:\n",
    "    print(\"here is a fruit:\",fruit)"
   ]
  },
  {
   "cell_type": "code",
   "execution_count": 7,
   "id": "c21d90ee-2156-4b2f-be9c-ae2043c385cb",
   "metadata": {},
   "outputs": [
    {
     "name": "stdout",
     "output_type": "stream",
     "text": [
      "key: name , value: john doe\n",
      "key: sex , value: male\n",
      "key: age , value: 32\n"
     ]
    }
   ],
   "source": [
    "person = {\n",
    "    'name':'john doe',\n",
    "    'sex':'male',\n",
    "    'age':32\n",
    "}\n",
    "for key in person:\n",
    "    print(\"key:\",key,\",\",\"value:\",person[key])"
   ]
  },
  {
   "cell_type": "code",
   "execution_count": 8,
   "id": "017cfe40-dab8-40c9-9549-cfb2dbfe7937",
   "metadata": {},
   "outputs": [
    {
     "name": "stdout",
     "output_type": "stream",
     "text": [
      "john doe\n",
      "male\n",
      "32\n"
     ]
    }
   ],
   "source": [
    "for value in person.values():\n",
    "    print(value)"
   ]
  },
  {
   "cell_type": "code",
   "execution_count": 9,
   "id": "a3587707-c43a-432c-afec-bacbfb468855",
   "metadata": {},
   "outputs": [
    {
     "name": "stdout",
     "output_type": "stream",
     "text": [
      "('name', 'john doe')\n",
      "('sex', 'male')\n",
      "('age', 32)\n"
     ]
    }
   ],
   "source": [
    "for key_value_pair in person.items():\n",
    "    print(key_value_pair)"
   ]
  },
  {
   "cell_type": "code",
   "execution_count": 11,
   "id": "5f7ebd6c-daa0-4d00-99ae-e1b4dcb57c90",
   "metadata": {},
   "outputs": [
    {
     "name": "stdout",
     "output_type": "stream",
     "text": [
      "key: name , value: john doe\n",
      "key: sex , value: male\n",
      "key: age , value: 32\n"
     ]
    }
   ],
   "source": [
    "for key,value in person.items():\n",
    "    print(\"key:\",key,\",\",\"value:\",value)"
   ]
  },
  {
   "cell_type": "code",
   "execution_count": 15,
   "id": "d08c99b5-8e7a-47d4-8a91-381aea084559",
   "metadata": {},
   "outputs": [
    {
     "name": "stdout",
     "output_type": "stream",
     "text": [
      "0\n",
      "1\n",
      "2\n",
      "3\n",
      "4\n",
      "5\n",
      "6\n"
     ]
    }
   ],
   "source": [
    "for i in range(7):\n",
    "    print(i)"
   ]
  },
  {
   "cell_type": "code",
   "execution_count": 16,
   "id": "5edb881d-d817-49fc-affa-2ff7f2b12159",
   "metadata": {},
   "outputs": [
    {
     "name": "stdout",
     "output_type": "stream",
     "text": [
      "3\n",
      "4\n",
      "5\n",
      "6\n",
      "7\n",
      "8\n",
      "9\n"
     ]
    }
   ],
   "source": [
    "for i in range(3,10):\n",
    "    print(i)"
   ]
  },
  {
   "cell_type": "code",
   "execution_count": 17,
   "id": "b9daceb3-a38c-4848-9ade-5b42df124015",
   "metadata": {},
   "outputs": [
    {
     "name": "stdout",
     "output_type": "stream",
     "text": [
      "3\n",
      "7\n",
      "11\n"
     ]
    }
   ],
   "source": [
    "for i in range(3,14,4):\n",
    "    print(i)"
   ]
  },
  {
   "cell_type": "code",
   "execution_count": 18,
   "id": "56b9d3b7-533a-40ce-b64a-9111ff847c8a",
   "metadata": {},
   "outputs": [
    {
     "name": "stdout",
     "output_type": "stream",
     "text": [
      "the value at position 0 is monday.\n",
      "the value at position 1 is tuesday.\n",
      "the value at position 2 is wednesday.\n",
      "the value at position 3 is thursday.\n",
      "the value at position 4 is friday.\n"
     ]
    }
   ],
   "source": [
    "a_list = ['monday','tuesday','wednesday','thursday','friday']\n",
    "for i in range(len(a_list)):\n",
    "    print('the value at position {} is {}.'.format(i,a_list[i]))"
   ]
  },
  {
   "cell_type": "code",
   "execution_count": 20,
   "id": "165bd847-7583-479b-9fef-e21b0ffa6e2c",
   "metadata": {},
   "outputs": [
    {
     "name": "stdout",
     "output_type": "stream",
     "text": [
      "the value at position 0 is monday.\n",
      "the value at position 1 is tuesday.\n",
      "the value at position 2 is wednesday.\n",
      "the value at position 3 is thursday.\n",
      "the value at position 4 is friday.\n"
     ]
    }
   ],
   "source": [
    "for i,val in enumerate(a_list):\n",
    "    print('the value at position {} is {}.'.format(i,val))"
   ]
  },
  {
   "cell_type": "code",
   "execution_count": 48,
   "id": "fdcc050a-8b58-4208-b4c1-77013d3ae486",
   "metadata": {},
   "outputs": [],
   "source": [
    "weekdays = ['monday','tuesday','wednesday','thursday','friday']\n"
   ]
  },
  {
   "cell_type": "code",
   "execution_count": 49,
   "id": "4cc3b122-a15a-423e-8c43-0f61b8d281d3",
   "metadata": {},
   "outputs": [
    {
     "name": "stdout",
     "output_type": "stream",
     "text": [
      "today is monday\n",
      "today is tuesday\n",
      "today is wednesday\n",
      "i don't work beyond wednesday!\n"
     ]
    }
   ],
   "source": [
    "for day in weekdays:\n",
    "    print('today is {}'.format(day))\n",
    "    if(day == 'wednesday'):\n",
    "       print(\"i don't work beyond wednesday!\")\n",
    "       break"
   ]
  },
  {
   "cell_type": "code",
   "execution_count": 50,
   "id": "99c2ed73-728d-41a6-83e0-d12000305b50",
   "metadata": {},
   "outputs": [
    {
     "name": "stdout",
     "output_type": "stream",
     "text": [
      "today is monday\n",
      "today is tuesday\n",
      "i don't work beyond wednesday!\n",
      "today is thursday\n",
      "today is friday\n"
     ]
    }
   ],
   "source": [
    "for day in weekdays:\n",
    "    if(day == 'wednesday'):\n",
    "       print(\"i don't work beyond wednesday!\")\n",
    "       continue\n",
    "    print('today is {}'.format(day))"
   ]
  },
  {
   "cell_type": "code",
   "execution_count": 54,
   "id": "56b69b42-f637-4980-8e4e-0f0954d78473",
   "metadata": {},
   "outputs": [
    {
     "ename": "IndentationError",
     "evalue": "unexpected indent (3163396963.py, line 1)",
     "output_type": "error",
     "traceback": [
      "  \u001b[36mCell\u001b[39m\u001b[36m \u001b[39m\u001b[32mIn[54]\u001b[39m\u001b[32m, line 1\u001b[39m\n\u001b[31m    \u001b[39m\u001b[31mpersons =[{'name':'john','sex':'male'}, {'name':'jalpa','sex':'female'}]\u001b[39m\n    ^\n\u001b[31mIndentationError\u001b[39m\u001b[31m:\u001b[39m unexpected indent\n"
     ]
    }
   ],
   "source": [
    " persons =[{'name':'john','sex':'male'}, {'name':'jalpa','sex':'female'}]\n",
    "for person in persons:\n",
    "    for key in person:\n",
    "        print(key,\":\",person[key])\n",
    "        print(\"\")"
   ]
  },
  {
   "cell_type": "code",
   "execution_count": 55,
   "id": "2d3854b3-e467-4b68-8ef6-1fbbe261b380",
   "metadata": {},
   "outputs": [
    {
     "name": "stdout",
     "output_type": "stream",
     "text": [
      "monday apple\n",
      "monday banana\n",
      "monday cherry\n",
      "tuesday apple\n",
      "tuesday banana\n",
      "tuesday cherry\n",
      "wednesday apple\n",
      "wednesday banana\n",
      "wednesday cherry\n",
      "thursday apple\n",
      "thursday banana\n",
      "thursday cherry\n",
      "friday apple\n",
      "friday banana\n",
      "friday cherry\n"
     ]
    }
   ],
   "source": [
    "days=['monday','tuesday','wednesday','thursday','friday']\n",
    "fruits=['apple','banana','cherry']\n",
    "for day in days:\n",
    "    for fruit in fruits:\n",
    "        print(day,fruit)"
   ]
  },
  {
   "cell_type": "code",
   "execution_count": 56,
   "id": "a202b159-ef3a-49bf-b25f-dbc90b447f35",
   "metadata": {},
   "outputs": [
    {
     "name": "stdout",
     "output_type": "stream",
     "text": [
      "today is saturday\n"
     ]
    }
   ],
   "source": [
    "today = \"saturday\"\n",
    "print(\"today is\",today)"
   ]
  },
  {
   "cell_type": "code",
   "execution_count": 61,
   "id": "434f4fc5-fc41-40af-8a30-895bbc93521c",
   "metadata": {},
   "outputs": [
    {
     "name": "stdout",
     "output_type": "stream",
     "text": [
      "hello there!\n",
      "how are you?\n"
     ]
    }
   ],
   "source": [
    "say_hello()\n"
   ]
  },
  {
   "cell_type": "code",
   "execution_count": 62,
   "id": "5c11e926-fe1f-4d3a-87f7-bea852dd1451",
   "metadata": {},
   "outputs": [],
   "source": [
    "def filter_even(number_list):\n",
    "    result_list = []\n",
    "    for number in number_list:\n",
    "        if number % 2 == 0:\n",
    "            result_list.append(number)\n",
    "        return result_list"
   ]
  },
  {
   "cell_type": "code",
   "execution_count": 63,
   "id": "23095d03-39f7-48c6-b7ec-d0308486ba74",
   "metadata": {},
   "outputs": [],
   "source": [
    "even_list = filter_even([1,2,3,4,5,6,7])"
   ]
  },
  {
   "cell_type": "code",
   "execution_count": 64,
   "id": "e35887f9-71de-4610-a4bc-6e0f9e9fc7de",
   "metadata": {},
   "outputs": [
    {
     "data": {
      "text/plain": [
       "[]"
      ]
     },
     "execution_count": 64,
     "metadata": {},
     "output_type": "execute_result"
    }
   ],
   "source": [
    "even_list"
   ]
  },
  {
   "cell_type": "code",
   "execution_count": null,
   "id": "dd461147-c1e4-4605-b52d-808c19bb8abf",
   "metadata": {},
   "outputs": [],
   "source": []
  }
 ],
 "metadata": {
  "kernelspec": {
   "display_name": "Python 3 (ipykernel)",
   "language": "python",
   "name": "python3"
  },
  "language_info": {
   "codemirror_mode": {
    "name": "ipython",
    "version": 3
   },
   "file_extension": ".py",
   "mimetype": "text/x-python",
   "name": "python",
   "nbconvert_exporter": "python",
   "pygments_lexer": "ipython3",
   "version": "3.13.3"
  }
 },
 "nbformat": 4,
 "nbformat_minor": 5
}
