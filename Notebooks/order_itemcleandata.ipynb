{
 "cells": [
  {
   "cell_type": "code",
   "execution_count": 1,
   "id": "3ea72af6-b1e1-48e8-bbc4-5c978353bd10",
   "metadata": {},
   "outputs": [],
   "source": [
    "import pandas as pd "
   ]
  },
  {
   "cell_type": "code",
   "execution_count": 2,
   "id": "caa1306d-099c-40e2-843e-d962233f8ded",
   "metadata": {},
   "outputs": [],
   "source": [
    "df = pd.read_csv(\"data/blinkit_order_items.csv\")"
   ]
  },
  {
   "cell_type": "code",
   "execution_count": 3,
   "id": "f9faec9d-b550-44cd-844d-fdadfdb32a18",
   "metadata": {},
   "outputs": [
    {
     "data": {
      "text/html": [
       "<div>\n",
       "<style scoped>\n",
       "    .dataframe tbody tr th:only-of-type {\n",
       "        vertical-align: middle;\n",
       "    }\n",
       "\n",
       "    .dataframe tbody tr th {\n",
       "        vertical-align: top;\n",
       "    }\n",
       "\n",
       "    .dataframe thead th {\n",
       "        text-align: right;\n",
       "    }\n",
       "</style>\n",
       "<table border=\"1\" class=\"dataframe\">\n",
       "  <thead>\n",
       "    <tr style=\"text-align: right;\">\n",
       "      <th></th>\n",
       "      <th>order_id</th>\n",
       "      <th>product_id</th>\n",
       "      <th>quantity</th>\n",
       "      <th>unit_price</th>\n",
       "    </tr>\n",
       "  </thead>\n",
       "  <tbody>\n",
       "    <tr>\n",
       "      <th>0</th>\n",
       "      <td>1961864118</td>\n",
       "      <td>642612</td>\n",
       "      <td>3</td>\n",
       "      <td>517.03</td>\n",
       "    </tr>\n",
       "    <tr>\n",
       "      <th>1</th>\n",
       "      <td>1549769649</td>\n",
       "      <td>378676</td>\n",
       "      <td>1</td>\n",
       "      <td>881.42</td>\n",
       "    </tr>\n",
       "    <tr>\n",
       "      <th>2</th>\n",
       "      <td>9185164487</td>\n",
       "      <td>741341</td>\n",
       "      <td>2</td>\n",
       "      <td>923.84</td>\n",
       "    </tr>\n",
       "    <tr>\n",
       "      <th>3</th>\n",
       "      <td>9644738826</td>\n",
       "      <td>561860</td>\n",
       "      <td>1</td>\n",
       "      <td>874.78</td>\n",
       "    </tr>\n",
       "    <tr>\n",
       "      <th>4</th>\n",
       "      <td>5427684290</td>\n",
       "      <td>602241</td>\n",
       "      <td>2</td>\n",
       "      <td>976.55</td>\n",
       "    </tr>\n",
       "    <tr>\n",
       "      <th>...</th>\n",
       "      <td>...</td>\n",
       "      <td>...</td>\n",
       "      <td>...</td>\n",
       "      <td>...</td>\n",
       "    </tr>\n",
       "    <tr>\n",
       "      <th>4995</th>\n",
       "      <td>1669690997</td>\n",
       "      <td>925482</td>\n",
       "      <td>3</td>\n",
       "      <td>475.04</td>\n",
       "    </tr>\n",
       "    <tr>\n",
       "      <th>4996</th>\n",
       "      <td>8340761903</td>\n",
       "      <td>124290</td>\n",
       "      <td>2</td>\n",
       "      <td>39.65</td>\n",
       "    </tr>\n",
       "    <tr>\n",
       "      <th>4997</th>\n",
       "      <td>5936301790</td>\n",
       "      <td>491314</td>\n",
       "      <td>3</td>\n",
       "      <td>973.44</td>\n",
       "    </tr>\n",
       "    <tr>\n",
       "      <th>4998</th>\n",
       "      <td>5710579377</td>\n",
       "      <td>319388</td>\n",
       "      <td>2</td>\n",
       "      <td>657.80</td>\n",
       "    </tr>\n",
       "    <tr>\n",
       "      <th>4999</th>\n",
       "      <td>2494813730</td>\n",
       "      <td>136533</td>\n",
       "      <td>1</td>\n",
       "      <td>826.21</td>\n",
       "    </tr>\n",
       "  </tbody>\n",
       "</table>\n",
       "<p>5000 rows × 4 columns</p>\n",
       "</div>"
      ],
      "text/plain": [
       "        order_id  product_id  quantity  unit_price\n",
       "0     1961864118      642612         3      517.03\n",
       "1     1549769649      378676         1      881.42\n",
       "2     9185164487      741341         2      923.84\n",
       "3     9644738826      561860         1      874.78\n",
       "4     5427684290      602241         2      976.55\n",
       "...          ...         ...       ...         ...\n",
       "4995  1669690997      925482         3      475.04\n",
       "4996  8340761903      124290         2       39.65\n",
       "4997  5936301790      491314         3      973.44\n",
       "4998  5710579377      319388         2      657.80\n",
       "4999  2494813730      136533         1      826.21\n",
       "\n",
       "[5000 rows x 4 columns]"
      ]
     },
     "execution_count": 3,
     "metadata": {},
     "output_type": "execute_result"
    }
   ],
   "source": [
    "df"
   ]
  },
  {
   "cell_type": "code",
   "execution_count": 15,
   "id": "cf2c8448-3811-4dde-80e1-80c7e9c42a0b",
   "metadata": {},
   "outputs": [
    {
     "name": "stdout",
     "output_type": "stream",
     "text": [
      "        order_id  product_id  quantity  unit_price  order_value\n",
      "0     1961864118      642612         3      517.03      1551.09\n",
      "1     1549769649      378676         1      881.42       881.42\n",
      "2     9185164487      741341         2      923.84      1847.68\n",
      "3     9644738826      561860         1      874.78       874.78\n",
      "4     5427684290      602241         2      976.55      1953.10\n",
      "...          ...         ...       ...         ...          ...\n",
      "4995  1669690997      925482         3      475.04      1425.12\n",
      "4996  8340761903      124290         2       39.65        79.30\n",
      "4997  5936301790      491314         3      973.44      2920.32\n",
      "4998  5710579377      319388         2      657.80      1315.60\n",
      "4999  2494813730      136533         1      826.21       826.21\n",
      "\n",
      "[5000 rows x 5 columns]\n"
     ]
    }
   ],
   "source": [
    "# Make sure column names are clean (optional)\n",
    "df.columns = df.columns.str.strip().str.lower()\n",
    "\n",
    "# Create the new column 'order_value'\n",
    "df['order_value'] = df['quantity'] * df['unit_price'].round(2)\n",
    "\n",
    "# Display the updated DataFrame\n",
    "print(df)\n",
    "df.to_csv(\"order_item.csv\", index=False)"
   ]
  },
  {
   "cell_type": "code",
   "execution_count": 13,
   "id": "f2573ff6-8701-4aa9-81e5-a40e263a3f58",
   "metadata": {},
   "outputs": [],
   "source": [
    "grouped_df = df.groupby(['product_id', 'order_id'], as_index=False).agg({\n",
    "    'quantity': 'sum',\n",
    "    'unit_price': 'sum',\n",
    "    'order_value': 'sum'\n",
    "})\n"
   ]
  },
  {
   "cell_type": "code",
   "execution_count": 14,
   "id": "fab1e86a-93be-424d-bd82-67151740b455",
   "metadata": {},
   "outputs": [],
   "source": [
    "grouped_df.to_csv(\"order_item.csv\", index=False)"
   ]
  },
  {
   "cell_type": "code",
   "execution_count": 9,
   "id": "0f7a415e-0001-4c6b-8cfb-b59f8359d25d",
   "metadata": {},
   "outputs": [
    {
     "name": "stdout",
     "output_type": "stream",
     "text": [
      "     product_id  unique_order_count\n",
      "0          4452                  23\n",
      "1          6405                  18\n",
      "2          9436                  21\n",
      "3         11422                  15\n",
      "4         14145                  21\n",
      "..          ...                 ...\n",
      "263      970529                  21\n",
      "264      990993                  17\n",
      "265      991434                  20\n",
      "266      992178                  29\n",
      "267      993331                  13\n",
      "\n",
      "[268 rows x 2 columns]\n"
     ]
    }
   ],
   "source": [
    "order_item.df"
   ]
  },
  {
   "cell_type": "code",
   "execution_count": null,
   "id": "489b012c-890d-4c5d-a888-24220050aadd",
   "metadata": {},
   "outputs": [],
   "source": [
    "# Optional: clean column names\n",
    "df.columns = df.columns.str.strip().str.lower()\n",
    "\n",
    "# Group by product_id and count unique order_ids\n",
    "grouped_df = df.groupby('product_id')['order_id'].nunique().reset_index()\n",
    "\n",
    "# Rename the column\n",
    "grouped_df.rename(columns={'order_id': 'unique_order_count'}, inplace=True)\n",
    "\n",
    "# Display result\n",
    "print(grouped_df)\n",
    "\n",
    "# Optional: save to CSV\n",
    "\n"
   ]
  }
 ],
 "metadata": {
  "kernelspec": {
   "display_name": "Python 3 (ipykernel)",
   "language": "python",
   "name": "python3"
  },
  "language_info": {
   "codemirror_mode": {
    "name": "ipython",
    "version": 3
   },
   "file_extension": ".py",
   "mimetype": "text/x-python",
   "name": "python",
   "nbconvert_exporter": "python",
   "pygments_lexer": "ipython3",
   "version": "3.13.3"
  }
 },
 "nbformat": 4,
 "nbformat_minor": 5
}
