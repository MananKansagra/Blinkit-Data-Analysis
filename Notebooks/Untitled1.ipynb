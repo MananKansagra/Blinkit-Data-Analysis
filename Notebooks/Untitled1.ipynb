{
 "cells": [
  {
   "cell_type": "code",
   "execution_count": null,
   "id": "32d61651-2cf9-4497-9b5d-0c1ba589a4cb",
   "metadata": {},
   "outputs": [],
   "source": [
    "result=1\n",
    "i=1\n",
    "while i <=100:\n",
    "    result= result * i\n",
    "    i= i+1\n",
    "    print('the factorial of 100 is:{}'.format(result))"
   ]
  },
  {
   "cell_type": "code",
   "execution_count": null,
   "id": "7145f440-ad5e-4c72-a79f-27fc00732dfa",
   "metadata": {},
   "outputs": [],
   "source": [
    "line = \"*\"\n",
    "max_length = 10 \n",
    "while len(line) <= max_length:\n",
    "    print(line)\n",
    "    line += \"*\"\n",
    "    while len(line)> 0:\n",
    "        print(line)\n",
    "        line=line[:-1]"
   ]
  },
  {
   "cell_type": "code",
   "execution_count": null,
   "id": "ea1b8307-5756-4cae-8fd3-8717e277f19b",
   "metadata": {},
   "outputs": [],
   "source": [
    "result = 1\n",
    "i = 1\n",
    "while i <=100:\n",
    "    result *= i\n",
    "    i += 1\n",
    "    "
   ]
  },
  {
   "cell_type": "code",
   "execution_count": null,
   "id": "95191f5a-76ac-4359-b075-b9a993f34dad",
   "metadata": {},
   "outputs": [],
   "source": [
    "i = 1\n",
    "result = 1\n",
    "\n",
    "while i <= 100:\n",
    "    result *= i\n",
    "    if i == 42:\n",
    "        print('magic number 42 reached!stopping execution..')\n",
    "        break\n",
    "    i += 1\n",
    "print('i:',i)\n",
    "print('result:',result)"
   ]
  },
  {
   "cell_type": "code",
   "execution_count": null,
   "id": "0fc11148-dca6-4cc5-8cea-1313693374b9",
   "metadata": {},
   "outputs": [],
   "source": [
    "i = 1\n",
    "result=1\n",
    "while i < 20\n",
    "   i += 1\n",
    "   if i % 2 == 0:\n",
    "    print('skipping{}'.format(i))\n",
    "    continue\n",
    "    print('multiplyong with {}'.format(i))\n",
    "    result = result * i \n",
    "print('i:',i)\n",
    "print('result:',result)"
   ]
  },
  {
   "cell_type": "code",
   "execution_count": null,
   "id": "f89f9460-1634-4ab0-baf2-2fc92e275ddf",
   "metadata": {},
   "outputs": [],
   "source": [
    "days = ['monday','tuesday','wednesday','thursday','friday']\n",
    "for day in days:\n",
    "    print(day)"
   ]
  },
  {
   "cell_type": "code",
   "execution_count": null,
   "id": "c667e6a7-61fa-4706-b277-f1be0b75397a",
   "metadata": {},
   "outputs": [],
   "source": [
    "for char in 'monday':\n",
    "    print(char)"
   ]
  },
  {
   "cell_type": "code",
   "execution_count": null,
   "id": "13ebbf42-28b1-441f-8011-f901ee07f060",
   "metadata": {},
   "outputs": [],
   "source": [
    "for fruite in ['apple','banana','cherry']\n",
    "print(\"here is a fruite:\",fruit)"
   ]
  },
  {
   "cell_type": "code",
   "execution_count": null,
   "id": "09aa1089-3d97-4fd3-a99f-bbfa876c5643",
   "metadata": {},
   "outputs": [],
   "source": []
  }
 ],
 "metadata": {
  "kernelspec": {
   "display_name": "Python 3 (ipykernel)",
   "language": "python",
   "name": "python3"
  },
  "language_info": {
   "codemirror_mode": {
    "name": "ipython",
    "version": 3
   },
   "file_extension": ".py",
   "mimetype": "text/x-python",
   "name": "python",
   "nbconvert_exporter": "python",
   "pygments_lexer": "ipython3",
   "version": "3.13.3"
  }
 },
 "nbformat": 4,
 "nbformat_minor": 5
}
