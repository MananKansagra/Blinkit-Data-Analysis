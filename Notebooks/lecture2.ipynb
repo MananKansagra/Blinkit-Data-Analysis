{
 "cells": [
  {
   "cell_type": "code",
   "execution_count": 7,
   "id": "09a5c0d1-3dd9-4453-b3c5-445010179a83",
   "metadata": {},
   "outputs": [
    {
     "data": {
      "text/plain": [
       "list"
      ]
     },
     "execution_count": 7,
     "metadata": {},
     "output_type": "execute_result"
    }
   ],
   "source": [
    "fruits=['apple','banana', 'cherry']\n",
    "fruits\n",
    "type(fruits)"
   ]
  },
  {
   "cell_type": "code",
   "execution_count": 8,
   "id": "c6d200f9-a245-4fca-9811-9a9751e90036",
   "metadata": {},
   "outputs": [
    {
     "data": {
      "text/plain": [
       "3"
      ]
     },
     "execution_count": 8,
     "metadata": {},
     "output_type": "execute_result"
    }
   ],
   "source": [
    "len(fruits)"
   ]
  },
  {
   "cell_type": "code",
   "execution_count": 9,
   "id": "e0f7a708-c6a5-4ef9-adb4-f4c06b5ad5a9",
   "metadata": {},
   "outputs": [
    {
     "data": {
      "text/plain": [
       "'apple'"
      ]
     },
     "execution_count": 9,
     "metadata": {},
     "output_type": "execute_result"
    }
   ],
   "source": [
    "fruits[0]"
   ]
  },
  {
   "cell_type": "code",
   "execution_count": 10,
   "id": "ff44eba2-8ce1-423a-837f-210b226e1a5f",
   "metadata": {},
   "outputs": [
    {
     "data": {
      "text/plain": [
       "'banana'"
      ]
     },
     "execution_count": 10,
     "metadata": {},
     "output_type": "execute_result"
    }
   ],
   "source": [
    "fruits[1]"
   ]
  },
  {
   "cell_type": "code",
   "execution_count": 11,
   "id": "9bb43c6c-92f6-43f5-84cb-7b778fee311a",
   "metadata": {},
   "outputs": [
    {
     "data": {
      "text/plain": [
       "'cherry'"
      ]
     },
     "execution_count": 11,
     "metadata": {},
     "output_type": "execute_result"
    }
   ],
   "source": [
    "fruits[2]"
   ]
  },
  {
   "cell_type": "code",
   "execution_count": 12,
   "id": "1354a7e5-dafa-462a-9789-2b973d93b34e",
   "metadata": {},
   "outputs": [
    {
     "data": {
      "text/plain": [
       "['apple', 'banana', 'cherry']"
      ]
     },
     "execution_count": 12,
     "metadata": {},
     "output_type": "execute_result"
    }
   ],
   "source": [
    "fruits"
   ]
  },
  {
   "cell_type": "code",
   "execution_count": 13,
   "id": "054512aa-e685-45f3-a3cb-35beb52fdc57",
   "metadata": {},
   "outputs": [
    {
     "ename": "IndexError",
     "evalue": "list index out of range",
     "output_type": "error",
     "traceback": [
      "\u001b[31m---------------------------------------------------------------------------\u001b[39m",
      "\u001b[31mIndexError\u001b[39m                                Traceback (most recent call last)",
      "\u001b[36mCell\u001b[39m\u001b[36m \u001b[39m\u001b[32mIn[13]\u001b[39m\u001b[32m, line 1\u001b[39m\n\u001b[32m----> \u001b[39m\u001b[32m1\u001b[39m \u001b[43mfruits\u001b[49m\u001b[43m[\u001b[49m\u001b[32;43m3\u001b[39;49m\u001b[43m]\u001b[49m\n",
      "\u001b[31mIndexError\u001b[39m: list index out of range"
     ]
    }
   ],
   "source": [
    "fruits[3]"
   ]
  },
  {
   "cell_type": "code",
   "execution_count": 14,
   "id": "39a6dab2-5078-4d25-a6ff-04e5214a52c4",
   "metadata": {},
   "outputs": [
    {
     "data": {
      "text/plain": [
       "'cherry'"
      ]
     },
     "execution_count": 14,
     "metadata": {},
     "output_type": "execute_result"
    }
   ],
   "source": [
    "fruits[-1]"
   ]
  },
  {
   "cell_type": "code",
   "execution_count": 15,
   "id": "c39e9543-08d5-4606-9863-0f2dd0621d68",
   "metadata": {},
   "outputs": [
    {
     "data": {
      "text/plain": [
       "'banana'"
      ]
     },
     "execution_count": 15,
     "metadata": {},
     "output_type": "execute_result"
    }
   ],
   "source": [
    "fruits[-2]"
   ]
  },
  {
   "cell_type": "code",
   "execution_count": 16,
   "id": "3ed1ba57-7942-46db-b897-eecd702c351b",
   "metadata": {},
   "outputs": [
    {
     "data": {
      "text/plain": [
       "'apple'"
      ]
     },
     "execution_count": 16,
     "metadata": {},
     "output_type": "execute_result"
    }
   ],
   "source": [
    "fruits[-3]"
   ]
  },
  {
   "cell_type": "code",
   "execution_count": 19,
   "id": "626c6876-8e9b-4d84-a961-89459e6d9cc9",
   "metadata": {},
   "outputs": [],
   "source": [
    "a_list=[2,'hello','none',3.14,'fruits',3<=5]"
   ]
  },
  {
   "cell_type": "code",
   "execution_count": 20,
   "id": "68538352-cda1-46c8-96bb-d85825975051",
   "metadata": {},
   "outputs": [
    {
     "data": {
      "text/plain": [
       "[2, 'hello', 'none', 3.14, 'fruits', True]"
      ]
     },
     "execution_count": 20,
     "metadata": {},
     "output_type": "execute_result"
    }
   ],
   "source": [
    "a_list"
   ]
  },
  {
   "cell_type": "code",
   "execution_count": 21,
   "id": "c271ce28-3a3a-420e-9ac4-3780a9090676",
   "metadata": {},
   "outputs": [
    {
     "data": {
      "text/plain": [
       "['none', 3.14, 'fruits']"
      ]
     },
     "execution_count": 21,
     "metadata": {},
     "output_type": "execute_result"
    }
   ],
   "source": [
    "a_list[2:5]"
   ]
  },
  {
   "cell_type": "code",
   "execution_count": 23,
   "id": "4457c0dc-8b27-4114-9401-19d703fb6e6a",
   "metadata": {},
   "outputs": [],
   "source": [
    "a=[2,'hello',3,4,5,6,7,8,9,'how are you?',9<=10]"
   ]
  },
  {
   "cell_type": "code",
   "execution_count": 24,
   "id": "71a99800-a13b-439e-aa8b-fa5a8e016faf",
   "metadata": {},
   "outputs": [
    {
     "data": {
      "text/plain": [
       "[2, 'hello', 3, 4, 5, 6, 7, 8, 9, 'how are you?', True]"
      ]
     },
     "execution_count": 24,
     "metadata": {},
     "output_type": "execute_result"
    }
   ],
   "source": [
    "a"
   ]
  },
  {
   "cell_type": "code",
   "execution_count": 25,
   "id": "39f37bc4-ad49-4af0-a1cb-3571fed22f50",
   "metadata": {},
   "outputs": [
    {
     "data": {
      "text/plain": [
       "[3, 4, 5, 6, 7, 8, 9]"
      ]
     },
     "execution_count": 25,
     "metadata": {},
     "output_type": "execute_result"
    }
   ],
   "source": [
    "a[2:9]"
   ]
  },
  {
   "cell_type": "code",
   "execution_count": 26,
   "id": "4a8e5b72-4cc4-4261-aeed-91df224bc6a4",
   "metadata": {},
   "outputs": [
    {
     "data": {
      "text/plain": [
       "[]"
      ]
     },
     "execution_count": 26,
     "metadata": {},
     "output_type": "execute_result"
    }
   ],
   "source": [
    "a[-2:-5]"
   ]
  },
  {
   "cell_type": "code",
   "execution_count": 27,
   "id": "67b7c694-5dc6-44ec-bf3b-dc2f31ec64ff",
   "metadata": {},
   "outputs": [],
   "source": [
    "fruits=['apple','banana','cherry']"
   ]
  },
  {
   "cell_type": "code",
   "execution_count": 28,
   "id": "ad6486d3-1e83-4c5e-9739-4fda30ebedc3",
   "metadata": {},
   "outputs": [
    {
     "data": {
      "text/plain": [
       "['apple', 'banana', 'cherry']"
      ]
     },
     "execution_count": 28,
     "metadata": {},
     "output_type": "execute_result"
    }
   ],
   "source": [
    "fruits"
   ]
  },
  {
   "cell_type": "code",
   "execution_count": 29,
   "id": "aab53724-f3e2-4f40-975a-a0b6cc9b1e4f",
   "metadata": {},
   "outputs": [],
   "source": [
    "fruits[1]='mango'"
   ]
  },
  {
   "cell_type": "code",
   "execution_count": 30,
   "id": "fd9943dc-644c-4613-9817-39d5eceb3bfe",
   "metadata": {},
   "outputs": [
    {
     "data": {
      "text/plain": [
       "['apple', 'mango', 'cherry']"
      ]
     },
     "execution_count": 30,
     "metadata": {},
     "output_type": "execute_result"
    }
   ],
   "source": [
    "fruits"
   ]
  },
  {
   "cell_type": "code",
   "execution_count": 31,
   "id": "8e372cd1-6ab8-41c6-82a7-519699042bc7",
   "metadata": {},
   "outputs": [],
   "source": [
    "fruits.append('guvava')"
   ]
  },
  {
   "cell_type": "code",
   "execution_count": 32,
   "id": "9834e104-fd25-4f3d-865c-81f38a2fee83",
   "metadata": {},
   "outputs": [
    {
     "data": {
      "text/plain": [
       "['apple', 'mango', 'cherry', 'guvava']"
      ]
     },
     "execution_count": 32,
     "metadata": {},
     "output_type": "execute_result"
    }
   ],
   "source": [
    "fruits"
   ]
  },
  {
   "cell_type": "code",
   "execution_count": 33,
   "id": "8bfa36f4-8de5-4ccb-89e0-3ba3b81123f9",
   "metadata": {},
   "outputs": [],
   "source": [
    " fruits.insert(0,'litchi' )"
   ]
  },
  {
   "cell_type": "code",
   "execution_count": 34,
   "id": "e6edaca8-48cd-49d7-b8eb-b6cf5afa67e7",
   "metadata": {},
   "outputs": [
    {
     "data": {
      "text/plain": [
       "['litchi', 'apple', 'mango', 'cherry', 'guvava']"
      ]
     },
     "execution_count": 34,
     "metadata": {},
     "output_type": "execute_result"
    }
   ],
   "source": [
    "fruits"
   ]
  },
  {
   "cell_type": "code",
   "execution_count": 35,
   "id": "c22173d5-2ae5-4c75-89a7-d7dd7b809ff1",
   "metadata": {},
   "outputs": [],
   "source": [
    "fruits.remove('cherry')"
   ]
  },
  {
   "cell_type": "code",
   "execution_count": 36,
   "id": "778740b0-fe7c-4116-b285-5e4f9394324c",
   "metadata": {},
   "outputs": [
    {
     "data": {
      "text/plain": [
       "['litchi', 'apple', 'mango', 'guvava']"
      ]
     },
     "execution_count": 36,
     "metadata": {},
     "output_type": "execute_result"
    }
   ],
   "source": [
    "fruits"
   ]
  },
  {
   "cell_type": "code",
   "execution_count": 37,
   "id": "d9536712-81ca-489f-951e-b7d809a9352b",
   "metadata": {},
   "outputs": [
    {
     "data": {
      "text/plain": [
       "'apple'"
      ]
     },
     "execution_count": 37,
     "metadata": {},
     "output_type": "execute_result"
    }
   ],
   "source": [
    "  fruits.pop(1)"
   ]
  },
  {
   "cell_type": "code",
   "execution_count": 38,
   "id": "8dffcffc-898f-4916-b8f7-7b970c97b79f",
   "metadata": {},
   "outputs": [
    {
     "data": {
      "text/plain": [
       "['litchi', 'mango', 'guvava']"
      ]
     },
     "execution_count": 38,
     "metadata": {},
     "output_type": "execute_result"
    }
   ],
   "source": [
    "fruits"
   ]
  },
  {
   "cell_type": "code",
   "execution_count": 39,
   "id": "3b40190b-9f94-4179-85ff-0e9421888153",
   "metadata": {},
   "outputs": [
    {
     "data": {
      "text/plain": [
       "True"
      ]
     },
     "execution_count": 39,
     "metadata": {},
     "output_type": "execute_result"
    }
   ],
   "source": [
    "'guvava'in fruits"
   ]
  },
  {
   "cell_type": "code",
   "execution_count": 43,
   "id": "93e723dc-81eb-4f79-9fb4-5c892d533b33",
   "metadata": {},
   "outputs": [],
   "source": [
    "more_fruits=fruits+['appele','banana','cherry']+['dates','mango','litchi']"
   ]
  },
  {
   "cell_type": "code",
   "execution_count": 47,
   "id": "abb9dbe8-d2dd-4061-be10-64464331a028",
   "metadata": {},
   "outputs": [
    {
     "data": {
      "text/plain": [
       "['litchi',\n",
       " 'mango',\n",
       " 'guvava',\n",
       " 'appele',\n",
       " 'banana',\n",
       " 'cherry',\n",
       " 'dates',\n",
       " 'mango',\n",
       " 'litchi']"
      ]
     },
     "execution_count": 47,
     "metadata": {},
     "output_type": "execute_result"
    }
   ],
   "source": [
    "more_fruits"
   ]
  },
  {
   "cell_type": "code",
   "execution_count": 52,
   "id": "5cdea54c-1ada-489e-b0c8-f243e6258ef1",
   "metadata": {},
   "outputs": [],
   "source": [
    "fruits=('apple','pine','strawberry')"
   ]
  },
  {
   "cell_type": "code",
   "execution_count": 53,
   "id": "879f5143-3c7d-4016-b611-7156ba208fd6",
   "metadata": {},
   "outputs": [
    {
     "data": {
      "text/plain": [
       "('apple', 'pine', 'strawberry')"
      ]
     },
     "execution_count": 53,
     "metadata": {},
     "output_type": "execute_result"
    }
   ],
   "source": [
    "fruits"
   ]
  },
  {
   "cell_type": "code",
   "execution_count": 50,
   "id": "03a37081-fd03-4c99-b565-baf3583858c1",
   "metadata": {},
   "outputs": [
    {
     "data": {
      "text/plain": [
       "3"
      ]
     },
     "execution_count": 50,
     "metadata": {},
     "output_type": "execute_result"
    }
   ],
   "source": [
    "len(fruits)"
   ]
  },
  {
   "cell_type": "code",
   "execution_count": 55,
   "id": "2a0b9e03-4021-4d1e-90fd-1eb50cc26c6a",
   "metadata": {},
   "outputs": [
    {
     "data": {
      "text/plain": [
       "'apple'"
      ]
     },
     "execution_count": 55,
     "metadata": {},
     "output_type": "execute_result"
    }
   ],
   "source": [
    "fruits[0]"
   ]
  },
  {
   "cell_type": "code",
   "execution_count": 56,
   "id": "7f17dff4-fd83-4cca-9dab-a3204c4ca434",
   "metadata": {},
   "outputs": [
    {
     "data": {
      "text/plain": [
       "'pine'"
      ]
     },
     "execution_count": 56,
     "metadata": {},
     "output_type": "execute_result"
    }
   ],
   "source": [
    "fruits[-2]"
   ]
  },
  {
   "cell_type": "code",
   "execution_count": 57,
   "id": "06d4ffd9-7f2a-4813-8f0e-afad58277c36",
   "metadata": {},
   "outputs": [
    {
     "data": {
      "text/plain": [
       "False"
      ]
     },
     "execution_count": 57,
     "metadata": {},
     "output_type": "execute_result"
    }
   ],
   "source": [
    "'dates'in fruits"
   ]
  },
  {
   "cell_type": "markdown",
   "id": "d459c86b-dc50-47e4-9bd7-fe73201936f9",
   "metadata": {},
   "source": [
    "fruits.append('berry')"
   ]
  },
  {
   "cell_type": "markdown",
   "id": "4ae51414-1c18-485a-9c43-cc3ec2ee7bf5",
   "metadata": {},
   "source": [
    "fruits.remove('apple')"
   ]
  },
  {
   "cell_type": "code",
   "execution_count": 8,
   "id": "b36d3b48-765c-4755-bf8f-bbdf3d39144b",
   "metadata": {},
   "outputs": [],
   "source": [
    "person2 = {\n",
    "    'name': 'Krisha',\n",
    "    'age': 18\n",
    "}"
   ]
  },
  {
   "cell_type": "code",
   "execution_count": 9,
   "id": "8e4c5478-7ea8-4bd1-95df-7ded9d9344be",
   "metadata": {},
   "outputs": [
    {
     "data": {
      "text/plain": [
       "{'name': 'Krisha', 'age': 18}"
      ]
     },
     "execution_count": 9,
     "metadata": {},
     "output_type": "execute_result"
    }
   ],
   "source": [
    "person2"
   ]
  },
  {
   "cell_type": "code",
   "execution_count": 6,
   "id": "d0b43c4f-07e0-4611-ac57-6bee00d2d8f4",
   "metadata": {},
   "outputs": [
    {
     "data": {
      "text/plain": [
       "dict"
      ]
     },
     "execution_count": 6,
     "metadata": {},
     "output_type": "execute_result"
    }
   ],
   "source": [
    "type(person2)"
   ]
  },
  {
   "cell_type": "code",
   "execution_count": 10,
   "id": "2d045903-b066-4369-9831-72abe3602c00",
   "metadata": {},
   "outputs": [
    {
     "data": {
      "text/plain": [
       "'Krisha'"
      ]
     },
     "execution_count": 10,
     "metadata": {},
     "output_type": "execute_result"
    }
   ],
   "source": [
    "person2['name']  "
   ]
  },
  {
   "cell_type": "code",
   "execution_count": 11,
   "id": "50e24330-1821-4283-999c-d9b77c62a425",
   "metadata": {},
   "outputs": [
    {
     "data": {
      "text/plain": [
       "18"
      ]
     },
     "execution_count": 11,
     "metadata": {},
     "output_type": "execute_result"
    }
   ],
   "source": [
    "person2['age']"
   ]
  },
  {
   "cell_type": "code",
   "execution_count": 12,
   "id": "360691a4-52c2-464f-9650-535d7a7d891d",
   "metadata": {},
   "outputs": [
    {
     "data": {
      "text/plain": [
       "'unknown'"
      ]
     },
     "execution_count": 12,
     "metadata": {},
     "output_type": "execute_result"
    }
   ],
   "source": [
    "person2.get(\"adress\",\"unknown\")"
   ]
  },
  {
   "cell_type": "code",
   "execution_count": 14,
   "id": "8f7a6bdf-f124-4702-8687-5dfe452088a3",
   "metadata": {},
   "outputs": [
    {
     "data": {
      "text/plain": [
       "True"
      ]
     },
     "execution_count": 14,
     "metadata": {},
     "output_type": "execute_result"
    }
   ],
   "source": [
    "'name' in person2"
   ]
  },
  {
   "cell_type": "code",
   "execution_count": 15,
   "id": "2c33a99c-6d0e-4917-8fea-c28ed20cca73",
   "metadata": {},
   "outputs": [
    {
     "data": {
      "text/plain": [
       "False"
      ]
     },
     "execution_count": 15,
     "metadata": {},
     "output_type": "execute_result"
    }
   ],
   "source": [
    "'address'in person2"
   ]
  },
  {
   "cell_type": "code",
   "execution_count": 19,
   "id": "74d509a7-7acc-4315-8404-fc815fd54c4b",
   "metadata": {},
   "outputs": [],
   "source": [
    "person1 = {'name': 'Krisha', 'age': 18}"
   ]
  },
  {
   "cell_type": "code",
   "execution_count": 20,
   "id": "06358f87-cfd9-4cc4-afb1-7f290d1fc776",
   "metadata": {},
   "outputs": [
    {
     "data": {
      "text/plain": [
       "{'name': 'Krisha', 'age': 18}"
      ]
     },
     "execution_count": 20,
     "metadata": {},
     "output_type": "execute_result"
    }
   ],
   "source": [
    "person1"
   ]
  },
  {
   "cell_type": "code",
   "execution_count": 21,
   "id": "fa17cfa2-aa02-4fa9-9be2-ed48398ea14c",
   "metadata": {},
   "outputs": [],
   "source": [
    "person1['address']='37,ramdevra society'"
   ]
  },
  {
   "cell_type": "code",
   "execution_count": 22,
   "id": "30aa35c6-1c89-451d-b82d-233d528f9b3d",
   "metadata": {},
   "outputs": [
    {
     "data": {
      "text/plain": [
       "{'name': 'Krisha', 'age': 18, 'address': '37,ramdevra society'}"
      ]
     },
     "execution_count": 22,
     "metadata": {},
     "output_type": "execute_result"
    }
   ],
   "source": [
    "person1"
   ]
  },
  {
   "cell_type": "code",
   "execution_count": 23,
   "id": "9c4fb4a8-0ec8-4d7a-a290-4375f8809f19",
   "metadata": {},
   "outputs": [
    {
     "data": {
      "text/plain": [
       "'37,ramdevra society'"
      ]
     },
     "execution_count": 23,
     "metadata": {},
     "output_type": "execute_result"
    }
   ],
   "source": [
    "person1.pop('address')"
   ]
  },
  {
   "cell_type": "code",
   "execution_count": 24,
   "id": "f40e11e7-4249-4910-ac3a-57abaa30b413",
   "metadata": {},
   "outputs": [
    {
     "data": {
      "text/plain": [
       "{'name': 'Krisha', 'age': 18}"
      ]
     },
     "execution_count": 24,
     "metadata": {},
     "output_type": "execute_result"
    }
   ],
   "source": [
    "person1"
   ]
  },
  {
   "cell_type": "code",
   "execution_count": 25,
   "id": "236493b0-a733-44d7-90a9-41356a10ac33",
   "metadata": {},
   "outputs": [
    {
     "data": {
      "text/plain": [
       "dict_items([('name', 'Krisha'), ('age', 18)])"
      ]
     },
     "execution_count": 25,
     "metadata": {},
     "output_type": "execute_result"
    }
   ],
   "source": [
    "person1.items()"
   ]
  },
  {
   "cell_type": "code",
   "execution_count": 27,
   "id": "6cc8025f-620b-41b9-a1ae-b0766ab3c097",
   "metadata": {},
   "outputs": [
    {
     "ename": "TypeError",
     "evalue": "'dict_items' object is not subscriptable",
     "output_type": "error",
     "traceback": [
      "\u001b[31m---------------------------------------------------------------------------\u001b[39m",
      "\u001b[31mTypeError\u001b[39m                                 Traceback (most recent call last)",
      "\u001b[36mCell\u001b[39m\u001b[36m \u001b[39m\u001b[32mIn[27]\u001b[39m\u001b[32m, line 1\u001b[39m\n\u001b[32m----> \u001b[39m\u001b[32m1\u001b[39m \u001b[43mperson1\u001b[49m\u001b[43m.\u001b[49m\u001b[43mitems\u001b[49m\u001b[43m(\u001b[49m\u001b[43m)\u001b[49m\u001b[43m[\u001b[49m\u001b[32;43m1\u001b[39;49m\u001b[43m]\u001b[49m\n",
      "\u001b[31mTypeError\u001b[39m: 'dict_items' object is not subscriptable"
     ]
    }
   ],
   "source": [
    "person1.items()[1]"
   ]
  },
  {
   "cell_type": "code",
   "execution_count": 42,
   "id": "3046400a-3d87-49ab-8f56-f4973d584e22",
   "metadata": {},
   "outputs": [],
   "source": [
    "num=24"
   ]
  },
  {
   "cell_type": "code",
   "execution_count": 43,
   "id": "73bae025-c687-450e-a1a8-6594e06e355b",
   "metadata": {},
   "outputs": [
    {
     "name": "stdout",
     "output_type": "stream",
     "text": [
      "number is odd\n",
      "the given number 24 is even.\n"
     ]
    }
   ],
   "source": [
    "if num % 2 == 0:\n",
    "    print(\"number is odd\")\n",
    "    print('the given number {} is even.'.format(num))\n"
   ]
  },
  {
   "cell_type": "code",
   "execution_count": 47,
   "id": "1803fbc6-c029-41cf-bfcc-2b868b0f30aa",
   "metadata": {},
   "outputs": [],
   "source": [
    "num2=23"
   ]
  },
  {
   "cell_type": "code",
   "execution_count": 48,
   "id": "a4e57daa-ed99-480f-b28d-712bbfb9e8b2",
   "metadata": {},
   "outputs": [
    {
     "name": "stdout",
     "output_type": "stream",
     "text": [
      "the given number is odd\n"
     ]
    }
   ],
   "source": [
    "if num2 % 2 == 0:\n",
    "    print('the given number is even.'.format(num2))\n",
    "else:\n",
    "    print('the given number is odd'.format(num2))"
   ]
  },
  {
   "cell_type": "code",
   "execution_count": 72,
   "id": "60c0a3e9-7308-46a5-a3dd-df4ec4ba4976",
   "metadata": {},
   "outputs": [],
   "source": [
    "today = 'saturday'"
   ]
  },
  {
   "cell_type": "code",
   "execution_count": 73,
   "id": "c30b690d-923e-4c9d-a4a3-e360401b815d",
   "metadata": {},
   "outputs": [
    {
     "data": {
      "text/plain": [
       "'saturday'"
      ]
     },
     "execution_count": 73,
     "metadata": {},
     "output_type": "execute_result"
    }
   ],
   "source": [
    "today"
   ]
  },
  {
   "cell_type": "code",
   "execution_count": 81,
   "id": "672f2480-8002-413a-88b1-ca5f692978b6",
   "metadata": {},
   "outputs": [
    {
     "name": "stdout",
     "output_type": "stream",
     "text": [
      "today is day of tyr.\n"
     ]
    }
   ],
   "source": [
    "if today=='monday':\n",
    "    print(\"today is day of moon.\")\n",
    "elif today=='wednesday':\n",
    "    print(\"today is day of odin.\")\n",
    "elif today=='saturday':\n",
    "    print(\"today is day of tyr.\")"
   ]
  },
  {
   "cell_type": "code",
   "execution_count": 79,
   "id": "c32a194e-3b4b-449f-83e4-cd71d90d048d",
   "metadata": {},
   "outputs": [],
   "source": [
    "a_number=12"
   ]
  },
  {
   "cell_type": "code",
   "execution_count": 82,
   "id": "67965467-65e3-44bb-a263-419083b25937",
   "metadata": {},
   "outputs": [
    {
     "name": "stdout",
     "output_type": "stream",
     "text": [
      "the number 12 is not divisible by 5\n"
     ]
    }
   ],
   "source": [
    "if a_number % 3 == 0 and a_number % 5 == 0:\n",
    "    print(\"the number {} is divisible by 3 and 5\".format(a_number))\n",
    "elif not a_number % 5 == 0:\n",
    "    print(\"the number {} is not divisible by 5\".format(a_number))"
   ]
  },
  {
   "cell_type": "code",
   "execution_count": null,
   "id": "75349510-48ac-4864-9de0-a5678b420747",
   "metadata": {},
   "outputs": [],
   "source": []
  }
 ],
 "metadata": {
  "kernelspec": {
   "display_name": "Python 3 (ipykernel)",
   "language": "python",
   "name": "python3"
  },
  "language_info": {
   "codemirror_mode": {
    "name": "ipython",
    "version": 3
   },
   "file_extension": ".py",
   "mimetype": "text/x-python",
   "name": "python",
   "nbconvert_exporter": "python",
   "pygments_lexer": "ipython3",
   "version": "3.13.3"
  }
 },
 "nbformat": 4,
 "nbformat_minor": 5
}
