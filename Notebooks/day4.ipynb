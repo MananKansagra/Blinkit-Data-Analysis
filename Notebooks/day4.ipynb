{
 "cells": [
  {
   "cell_type": "code",
   "execution_count": 1,
   "id": "318fb4cd-e454-4450-83a5-be25b8cd275b",
   "metadata": {},
   "outputs": [
    {
     "name": "stdout",
     "output_type": "stream",
     "text": [
      "now computing the result..\n",
      "failed to compute result because you were trying to divide by zero\n",
      "None\n"
     ]
    }
   ],
   "source": [
    "try:\n",
    "    print(\"now computing the result..\")\n",
    "    result = 5 / 0\n",
    "    print(\"computing was completed successfully.\")\n",
    "except ZeroDivisionError:\n",
    "    print(\"failed to compute result because you were trying to divide by zero\")\n",
    "    result = None\n",
    "\n",
    "print(result)"
   ]
  },
  {
   "cell_type": "code",
   "execution_count": 14,
   "id": "f25dba8c-b66c-41a1-92d3-2e100f02f935",
   "metadata": {},
   "outputs": [],
   "source": [
    "import math\n",
    "def loan_emi(amount,duration,rate,down_payment = 0):\n",
    "    loan_amount = amount - down_payment\n",
    "    try:\n",
    "        emi = loan_amount * rate* ((1 + rate)**duration) / (((1 + rate)**duration) - 1)\n",
    "    except ZeroDivisionError:\n",
    "        emi = loan_amount / duration\n",
    "    emi = math.ceil(emi)\n",
    "    return emi"
   ]
  },
  {
   "cell_type": "code",
   "execution_count": 15,
   "id": "8c612430-921a-487d-abf6-d385809dbee0",
   "metadata": {},
   "outputs": [
    {
     "data": {
      "text/plain": [
       "1267"
      ]
     },
     "execution_count": 15,
     "metadata": {},
     "output_type": "execute_result"
    }
   ],
   "source": [
    "emi_with_interest = loan_emi(amount=100000, duration=10*12, rate=0.09/12)\n",
    "emi_with_interest"
   ]
  },
  {
   "cell_type": "code",
   "execution_count": 16,
   "id": "c8f91629-2617-4172-b8ac-13d62290f179",
   "metadata": {},
   "outputs": [
    {
     "data": {
      "text/plain": [
       "834"
      ]
     },
     "execution_count": 16,
     "metadata": {},
     "output_type": "execute_result"
    }
   ],
   "source": [
    "emi_without_interest = loan_emi(amount=100000,duration=10*12,rate=0)\n",
    "emi_without_interest"
   ]
  },
  {
   "cell_type": "code",
   "execution_count": 19,
   "id": "2387d2b3-65be-4980-a4de-465d97894df5",
   "metadata": {},
   "outputs": [],
   "source": [
    "total_interest = (emi_with_interest - emi_without_interest)"
   ]
  },
  {
   "cell_type": "code",
   "execution_count": 20,
   "id": "00c7d3f5-d1f0-4f68-8bbb-0f63742f2cf0",
   "metadata": {},
   "outputs": [
    {
     "name": "stdout",
     "output_type": "stream",
     "text": [
      "the total interest paid is $433.\n"
     ]
    }
   ],
   "source": [
    "print(\"the total interest paid is ${}.\".format(total_interest))"
   ]
  },
  {
   "cell_type": "markdown",
   "id": "32e81682-3b38-4199-a427-c3cb805bed3f",
   "metadata": {},
   "source": [
    "# documenting function using docstrings"
   ]
  },
  {
   "cell_type": "markdown",
   "id": "b992f350-4bef-49a8-a574-0a22b884b252",
   "metadata": {},
   "source": [
    "## hello everyone this is jupyter lab"
   ]
  },
  {
   "cell_type": "code",
   "execution_count": 31,
   "id": "77e4eab4-0952-456c-ac39-395df1fa4692",
   "metadata": {},
   "outputs": [],
   "source": [
    "import math\n",
    "\n",
    "def loan_emi(amount, duration, rate, down_payment=0):\n",
    "    \"\"\"\n",
    "    Calculates the equal monthly installment (EMI) for a loan.\n",
    "\n",
    "    Arguments:\n",
    "        amount          - total amount to be spent (loan + down payment)\n",
    "        duration        - duration of the loan (in months)\n",
    "        rate            - rate of interest (monthly)\n",
    "        down_payment    - optional initial payment (deducted from loan)\n",
    "    \"\"\"\n",
    "    loan_amount = amount - down_payment\n",
    "    try:\n",
    "        emi = loan_amount * rate * ((1 + rate) ** duration) / (((1 + rate) ** duration) - 1)\n",
    "    except ZeroDivisionError:\n",
    "        emi = loan_amount / duration\n",
    "    emi = math.ceil(emi)\n",
    "    return emi\n",
    "\n",
    "    "
   ]
  },
  {
   "cell_type": "code",
   "execution_count": 33,
   "id": "200468e0-7aa8-4ee1-892f-8a4f3c71f6d3",
   "metadata": {
    "scrolled": true
   },
   "outputs": [
    {
     "name": "stdout",
     "output_type": "stream",
     "text": [
      "Help on function loan_emi in module __main__:\n",
      "\n",
      "loan_emi(amount, duration, rate, down_payment=0)\n",
      "    Calculates the equal monthly installment (EMI) for a loan.\n",
      "\n",
      "    Arguments:\n",
      "        amount          - total amount to be spent (loan + down payment)\n",
      "        duration        - duration of the loan (in months)\n",
      "        rate            - rate of interest (monthly)\n",
      "        down_payment    - optional initial payment (deducted from loan)\n",
      "\n"
     ]
    }
   ],
   "source": [
    "help(loan_emi)"
   ]
  },
  {
   "cell_type": "code",
   "execution_count": 6,
   "id": "5dcb783f-236c-4e16-b614-54f24a092406",
   "metadata": {},
   "outputs": [],
   "source": [
    "import matplotlib.pyplot as plt"
   ]
  },
  {
   "cell_type": "code",
   "execution_count": null,
   "id": "038345ad-4d6f-438e-b780-35da672c450e",
   "metadata": {},
   "outputs": [],
   "source": []
  }
 ],
 "metadata": {
  "kernelspec": {
   "display_name": "Python 3 (ipykernel)",
   "language": "python",
   "name": "python3"
  },
  "language_info": {
   "codemirror_mode": {
    "name": "ipython",
    "version": 3
   },
   "file_extension": ".py",
   "mimetype": "text/x-python",
   "name": "python",
   "nbconvert_exporter": "python",
   "pygments_lexer": "ipython3",
   "version": "3.13.3"
  }
 },
 "nbformat": 4,
 "nbformat_minor": 5
}
